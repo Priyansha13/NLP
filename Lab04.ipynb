{
 "cells": [
  {
   "cell_type": "code",
   "execution_count": 1,
   "metadata": {
    "colab": {
     "base_uri": "https://localhost:8080/"
    },
    "id": "8X2V7auSSg5K",
    "outputId": "d05a1121-9b46-436f-f94e-7ef308ddf2c7"
   },
   "outputs": [
    {
     "name": "stderr",
     "output_type": "stream",
     "text": [
      "[nltk_data] Downloading package wordnet to\n",
      "[nltk_data]     C:\\Users\\PRIYANSHU\\AppData\\Roaming\\nltk_data...\n"
     ]
    }
   ],
   "source": [
    "import nltk\n",
    "nltk.download('wordnet')\n",
    "from nltk.corpus import wordnet"
   ]
  },
  {
   "cell_type": "code",
   "execution_count": 5,
   "metadata": {
    "colab": {
     "base_uri": "https://localhost:8080/"
    },
    "id": "y-vlctybMODj",
    "outputId": "31bb5ddc-a8b1-4c82-fe3e-2a3fd5061968"
   },
   "outputs": [
    {
     "name": "stdout",
     "output_type": "stream",
     "text": [
      "Third meaning of 'word': information about recent and important events\n",
      "Third meaning of 'worst': the weakest effort or poorest achievement one is capable of\n",
      "Third meaning of 'tailor': style and tailor in a certain fashion\n",
      "Third meaning of 'tap': a faucet for drawing water from a pipe or cask\n",
      "Third meaning of 'scribble': write down quickly without much attention to detail\n"
     ]
    }
   ],
   "source": [
    "#a Find the 3rd meaning of the word in the list.\n",
    "\n",
    "words_list = ['word', 'worst', 'tailor', 'tap', 'scribble']\n",
    "\n",
    "def find_third_meaning(word):\n",
    "    synsets = wordnet.synsets(word)\n",
    "    if len(synsets) >= 3:\n",
    "        third_meaning = synsets[2]\n",
    "        return third_meaning.definition()\n",
    "    else:\n",
    "        return \"Word '{}' does not have a third meaning.\".format(word)\n",
    "\n",
    "for word in words_list:\n",
    "    print(\"Third meaning of '{}': {}\".format(word, find_third_meaning(word)))\n"
   ]
  },
  {
   "cell_type": "code",
   "execution_count": 6,
   "metadata": {
    "colab": {
     "base_uri": "https://localhost:8080/"
    },
    "id": "IAynMPxlSdjZ",
    "outputId": "79637f4f-7103-4fdd-fa84-7eb92e282b3f"
   },
   "outputs": [
    {
     "name": "stdout",
     "output_type": "stream",
     "text": [
      "Nouns related to 'word': ['word', 'word', 'news', 'intelligence', 'tidings', 'word', 'word', 'discussion', 'give-and-take', 'word', 'parole', 'word', 'word_of_honor', 'word', 'Son', 'Word', 'Logos', 'password', 'watchword', 'word', 'parole', 'countersign', 'Bible', 'Christian_Bible', 'Book', 'Good_Book', 'Holy_Scripture', 'Holy_Writ', 'Scripture', 'Word_of_God', 'Word']\n",
      "Nouns related to 'worst': ['worst', 'worst', 'worst']\n",
      "Nouns related to 'tailor': ['tailor', 'seamster', 'sartor']\n",
      "Nouns related to 'tap': ['pat', 'rap', 'tap', 'rap', 'strike', 'tap', 'water_faucet', 'water_tap', 'tap', 'hydrant', 'tap', 'tap', 'tap', 'spigot', 'wiretap', 'tap', 'tap', 'pat', 'dab']\n",
      "Nouns related to 'scribble': ['scribble', 'scratch', 'scrawl', 'cacography', 'scribble', 'scrabble', 'doodle']\n"
     ]
    }
   ],
   "source": [
    "#b Extract the nouns of the word from the synonyms list.\n",
    "\n",
    "def extract_nouns(word):\n",
    "    nouns = []\n",
    "    for syn in wordnet.synsets(word):\n",
    "        for lemma in syn.lemmas():\n",
    "            if syn.pos() == 'n':\n",
    "                nouns.append(lemma.name())\n",
    "    return nouns\n",
    "\n",
    "for word in words_list:\n",
    "    nouns = extract_nouns(word)\n",
    "    print(\"Nouns related to '{}': {}\".format(word, nouns))"
   ]
  },
  {
   "cell_type": "code",
   "execution_count": 7,
   "metadata": {
    "colab": {
     "base_uri": "https://localhost:8080/"
    },
    "id": "SrnCwk0jSz3n",
    "outputId": "1254fe26-120c-4ebe-a4c2-f3de3e32d95a"
   },
   "outputs": [
    {
     "name": "stdout",
     "output_type": "stream",
     "text": [
      "Verbs related to 'word': ['give_voice', 'formulate', 'word', 'phrase', 'articulate']\n",
      "Verbs related to 'worst': ['worst', 'pip', 'mop_up', 'whip', 'rack_up']\n",
      "Verbs related to 'tailor': ['tailor', 'orient', 'cut', 'tailor', 'sew', 'tailor', 'tailor-make']\n",
      "Verbs related to 'tap': ['tap', 'tap', 'tap', 'tip', 'exploit', 'tap', 'wiretap', 'tap', 'intercept', 'bug', 'tap', 'tap', 'rap', 'knock', 'pink', 'tap', 'tapdance', 'tap', 'tap', 'tap', 'solicit', 'beg', 'tap']\n",
      "Verbs related to 'scribble': ['scribble', 'scrabble', 'scribble', 'scrawl']\n"
     ]
    }
   ],
   "source": [
    "#c Extract the verbs of the word from the synonyms list.\n",
    "def extract_verbs(word):\n",
    "    verbs = []\n",
    "    for syn in wordnet.synsets(word):\n",
    "        for lemma in syn.lemmas():\n",
    "            if syn.pos() == 'v':\n",
    "                verbs.append(lemma.name())\n",
    "    return verbs\n",
    "\n",
    "for word in words_list:\n",
    "    verbs = extract_verbs(word)\n",
    "    print(\"Verbs related to '{}': {}\".format(word, verbs))"
   ]
  },
  {
   "cell_type": "code",
   "execution_count": 8,
   "metadata": {
    "colab": {
     "base_uri": "https://localhost:8080/"
    },
    "id": "RYKLFOeBS8G1",
    "outputId": "d7a2f6d6-3a4b-441f-d922-365d133b3674"
   },
   "outputs": [
    {
     "name": "stdout",
     "output_type": "stream",
     "text": [
      "Adjectives related to 'word': []\n",
      "Adjectives related to 'worst': ['worst', 'bad', 'regretful', 'sorry', 'bad']\n",
      "Adjectives related to 'tailor': []\n",
      "Adjectives related to 'tap': []\n",
      "Adjectives related to 'scribble': []\n"
     ]
    }
   ],
   "source": [
    "#d Extract the adjectives of the word from the synonyms list.\n",
    "def extract_adjectives(word):\n",
    "    adjectives = []\n",
    "    for syn in wordnet.synsets(word):\n",
    "        for lemma in syn.lemmas():\n",
    "            if syn.pos() == 'a':\n",
    "                adjectives.append(lemma.name())\n",
    "    return adjectives\n",
    "\n",
    "for word in words_list:\n",
    "    adjectives = extract_adjectives(word)\n",
    "    print(\"Adjectives related to '{}': {}\".format(word, adjectives))"
   ]
  },
  {
   "cell_type": "code",
   "execution_count": 9,
   "metadata": {
    "colab": {
     "base_uri": "https://localhost:8080/"
    },
    "id": "oeMxbkAHTbTU",
    "outputId": "5024c05a-a731-44ac-8ae2-4e79880c2ea0"
   },
   "outputs": [
    {
     "name": "stdout",
     "output_type": "stream",
     "text": [
      "Adverbs related to 'word': []\n",
      "Adverbs related to 'worst': ['worst']\n",
      "Adverbs related to 'tailor': []\n",
      "Adverbs related to 'tap': []\n",
      "Adverbs related to 'scribble': []\n"
     ]
    }
   ],
   "source": [
    "#e Extract the adverbs of the word from the synonyms list.\n",
    "\n",
    "def extract_adverbs(word):\n",
    "    adverbs = []\n",
    "    for syn in wordnet.synsets(word):\n",
    "        for lemma in syn.lemmas():\n",
    "            if syn.pos() == 'r':\n",
    "                adverbs.append(lemma.name())\n",
    "    return adverbs\n",
    "\n",
    "for word in words_list:\n",
    "    adverbs = extract_adverbs(word)\n",
    "    print(\"Adverbs related to '{}': {}\".format(word, adverbs))"
   ]
  },
  {
   "cell_type": "code",
   "execution_count": 10,
   "metadata": {
    "colab": {
     "base_uri": "https://localhost:8080/"
    },
    "id": "Qp4s2pXbUPuG",
    "outputId": "d0e3bb4d-38ce-4d8a-e7ba-245bdb48fc24"
   },
   "outputs": [
    {
     "name": "stdout",
     "output_type": "stream",
     "text": [
      "Definition of 'word': a unit of language that native speakers can identify\n",
      "Definition of 'worst': the least favorable outcome\n",
      "Definition of 'tailor': a person whose occupation is making and altering garments\n",
      "Definition of 'tap': the sound made by a gentle blow\n",
      "Definition of 'scribble': poor handwriting\n"
     ]
    }
   ],
   "source": [
    "#f Extract the definition of the word.\n",
    "def extract_definition(word):\n",
    "    synsets = wordnet.synsets(word)\n",
    "    if synsets:\n",
    "        return synsets[0].definition()\n",
    "    else:\n",
    "        return \"No definition found for '{}'.\".format(word)\n",
    "\n",
    "for word in words_list:\n",
    "    definition = extract_definition(word)\n",
    "    print(\"Definition of '{}': {}\".format(word, definition))"
   ]
  },
  {
   "cell_type": "code",
   "execution_count": 11,
   "metadata": {
    "colab": {
     "base_uri": "https://localhost:8080/"
    },
    "id": "4WUL3pChVE4N",
    "outputId": "6d2b1ea6-925c-4666-bae8-59e97dfa9cfd"
   },
   "outputs": [
    {
     "name": "stdout",
     "output_type": "stream",
     "text": [
      "Hypernyms of 'word': ['language_unit', 'statement', 'information', 'order', 'speech', 'promise', 'computer_memory_unit', 'positive_identification', 'secret', 'sacred_text', 'express']\n",
      "Hypernyms of 'worst': ['result', 'evil', 'attempt', 'beat']\n",
      "Hypernyms of 'tailor': ['garmentmaker', 'adapt', 'design', 'fashion']\n",
      "Hypernyms of 'tap': ['sound', 'blow', 'faucet', 'plumbing_fixture', 'plate', 'tool', 'plug', 'investigation', 'touch', 'cut', 'withdraw', 'strike', 'use', 'listen_in', 'supply', 'sound', 'walk', 'dance', 'draw', 'pierce', 'request']\n",
      "Hypernyms of 'scribble': ['handwriting', 'drawing', 'write', 'write']\n"
     ]
    }
   ],
   "source": [
    "#g Find the hypernyms of each word.\n",
    "def find_hypernyms(word):\n",
    "    hypernyms_list = []\n",
    "    for syn in wordnet.synsets(word):\n",
    "        for hypernym in syn.hypernyms():\n",
    "            hypernyms_list.append(hypernym.name().split('.')[0])\n",
    "    return hypernyms_list\n",
    "\n",
    "for word in words_list:\n",
    "    hypernyms = find_hypernyms(word)\n",
    "    print(\"Hypernyms of '{}': {}\".format(word, hypernyms))"
   ]
  },
  {
   "cell_type": "code",
   "execution_count": 12,
   "metadata": {
    "colab": {
     "base_uri": "https://localhost:8080/"
    },
    "id": "Hm-szU3sVNOa",
    "outputId": "ff190651-93a8-41ec-d074-a15e59715810"
   },
   "outputs": [
    {
     "name": "stdout",
     "output_type": "stream",
     "text": [
      "Hyponyms of 'word': ['anagram', 'anaphor', 'antonym', 'back-formation', 'charade', 'classifier', 'cognate', 'content_word', 'contraction', 'deictic', 'derivative', 'diminutive', 'dirty_word', 'disyllable', 'form', 'four-letter_word', 'function_word', 'guide_word', 'head', 'headword', 'heteronym', 'holonym', 'homonym', 'hypernym', 'hyponym', 'key_word', 'loanblend', 'loanword', 'meronym', 'metonym', 'monosyllable', 'neologism', 'nonce_word', 'oxytone', 'palindrome', 'paroxytone', 'partitive', 'polysemant', 'polysyllable', 'primitive', 'proparoxytone', 'quantifier', 'quantifier', 'reduplication', 'retronym', 'substantive', 'syncategorem', 'synonym', 'term', 'terminology', 'trisyllable', 'troponym', 'vocable', 'written_word', 'good_word', 'latest', 'update', 'argument', 'conference', 'deliberation', 'negotiation', 'panel_discussion', 'postmortem', 'public_discussion', 'family_bible', 'ask', 'dogmatize', 'formularize', 'frame', 'lexicalize']\n",
      "Hyponyms of 'worst': []\n",
      "Hyponyms of 'tailor': ['fitter', 'gore', 'quilt', 'run_up']\n",
      "Hyponyms of 'tap': ['pitter-patter', 'percuss', 'commercialize', 'harness', 'maximize', 'milk', 'mine', 'overexploit', 'quarry', 'canvass', 'lobby', 'quest']\n",
      "Hyponyms of 'scribble': ['chicken_scratch', 'squiggle']\n"
     ]
    }
   ],
   "source": [
    "#h Find the hyponyms of each word.\n",
    "def find_hyponyms(word):\n",
    "    hyponyms_list = []\n",
    "    for syn in wordnet.synsets(word):\n",
    "        for hyponym in syn.hyponyms():\n",
    "            hyponyms_list.append(hyponym.name().split('.')[0])\n",
    "    return hyponyms_list\n",
    "\n",
    "for word in words_list:\n",
    "    hyponyms = find_hyponyms(word)\n",
    "    print(\"Hyponyms of '{}': {}\".format(word, hyponyms))"
   ]
  },
  {
   "cell_type": "code",
   "execution_count": 14,
   "metadata": {
    "colab": {
     "base_uri": "https://localhost:8080/"
    },
    "id": "w6-ZfBDwVUyr",
    "outputId": "f3cf0c3a-360e-407b-a1ef-729f7de4d511"
   },
   "outputs": [
    {
     "name": "stdout",
     "output_type": "stream",
     "text": [
      "Similarity between 'velleity' and 'devise' hyponyms: 0.07142857142857142\n"
     ]
    }
   ],
   "source": [
    "#i Find the similarities of any two hyponyms of a word.\n",
    "def find_hyponym_similarity(word):\n",
    "    hyponyms = []\n",
    "    for syn in wordnet.synsets(word):\n",
    "        for hyponym in syn.hyponyms():\n",
    "            hyponyms.append(hyponym)\n",
    "\n",
    "    if len(hyponyms) < 2:\n",
    "        return \"At least two hyponyms are required to find similarity.\"\n",
    "\n",
    "    similarity = hyponyms[0].path_similarity(hyponyms[1])\n",
    "    return \"Similarity between '{}' and '{}' hyponyms: {}\".format(hyponyms[0].name().split('.')[0], hyponyms[1].name().split('.')[0], similarity)\n",
    "\n",
    "word = 'will'\n",
    "similarity_result = find_hyponym_similarity(word)\n",
    "print(similarity_result)"
   ]
  },
  {
   "cell_type": "code",
   "execution_count": null,
   "metadata": {
    "id": "edWDuyloV7qJ"
   },
   "outputs": [],
   "source": []
  }
 ],
 "metadata": {
  "colab": {
   "provenance": []
  },
  "kernelspec": {
   "display_name": "Python 3",
   "language": "python",
   "name": "python3"
  },
  "language_info": {
   "codemirror_mode": {
    "name": "ipython",
    "version": 3
   },
   "file_extension": ".py",
   "mimetype": "text/x-python",
   "name": "python",
   "nbconvert_exporter": "python",
   "pygments_lexer": "ipython3",
   "version": "3.8.8"
  }
 },
 "nbformat": 4,
 "nbformat_minor": 1
}
