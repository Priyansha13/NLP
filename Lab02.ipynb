{
  "nbformat": 4,
  "nbformat_minor": 0,
  "metadata": {
    "colab": {
      "provenance": []
    },
    "kernelspec": {
      "name": "python3",
      "display_name": "Python 3"
    },
    "language_info": {
      "name": "python"
    }
  },
  "cells": [
    {
      "cell_type": "code",
      "source": [
        "import nltk\n",
        "nltk.download('punkt')"
      ],
      "metadata": {
        "colab": {
          "base_uri": "https://localhost:8080/"
        },
        "id": "jCT1Im7kK4Dr",
        "outputId": "8e2391ed-0ff9-495a-e1c9-b231aace29e9"
      },
      "execution_count": null,
      "outputs": [
        {
          "output_type": "stream",
          "name": "stderr",
          "text": [
            "[nltk_data] Downloading package punkt to /root/nltk_data...\n",
            "[nltk_data]   Unzipping tokenizers/punkt.zip.\n"
          ]
        },
        {
          "output_type": "execute_result",
          "data": {
            "text/plain": [
              "True"
            ]
          },
          "metadata": {},
          "execution_count": 1
        }
      ]
    },
    {
      "cell_type": "code",
      "execution_count": null,
      "metadata": {
        "id": "ngQRep8VKd-n"
      },
      "outputs": [],
      "source": [
        "text=\"The 20th century didn't shower humanity with blessings , it cursed us with World Wars I & II ❌. From 28-06-1914 to 11-11-1918, the \\\"Great War\\\" didn't bring glory or honor, it unleashed a tide of death and destruction . Millions didn't march valiantly, they perished miserably in brutal trench warfare 🪖☠️, leaving Europe not stronger and united, but battered and disillusioned . Yet, the embers of conflict didn't fade, they smoldered , igniting anew on 1-September-1939 as Nazi Germany, under Hitler's tyrannical grip ☠️, didn't usher in a new era of prosperity, it plunged the world into an even more devastating global struggle . This \\\"Second World War\\\" didn't witness advancements for the betterment of humankind, it witnessed mechanized warfare, the horrors of the Holocaust ✡️, and the first and only use of atomic bombs, leaving an estimated 70-85 million casualties in its wake .\""
      ]
    },
    {
      "cell_type": "markdown",
      "source": [
        "a. Count the number of unique tokens in the text."
      ],
      "metadata": {
        "id": "lqSmklkEPXKe"
      }
    },
    {
      "cell_type": "code",
      "source": [
        "from nltk.probability import FreqDist"
      ],
      "metadata": {
        "id": "WlKPXSOBPVJf"
      },
      "execution_count": null,
      "outputs": []
    },
    {
      "cell_type": "code",
      "source": [
        "# token_count = FreqDist(text)\n",
        "# token_count"
      ],
      "metadata": {
        "colab": {
          "base_uri": "https://localhost:8080/"
        },
        "id": "cHFhgobrK_8u",
        "outputId": "de4dfda7-15a9-4fa7-e6bc-bfd01af846f6"
      },
      "execution_count": null,
      "outputs": [
        {
          "output_type": "execute_result",
          "data": {
            "text/plain": [
              "FreqDist({' ': 145, 'e': 73, 't': 63, 'n': 57, 'i': 54, 'r': 49, 'a': 49, 'd': 42, 'o': 39, 's': 38, ...})"
            ]
          },
          "metadata": {},
          "execution_count": 6
        }
      ]
    },
    {
      "cell_type": "code",
      "source": [
        "from nltk.tokenize import word_tokenize"
      ],
      "metadata": {
        "id": "LV46AHuKQTyL"
      },
      "execution_count": null,
      "outputs": []
    },
    {
      "cell_type": "code",
      "source": [
        "word_token = word_tokenize(text)\n",
        "word_token"
      ],
      "metadata": {
        "colab": {
          "base_uri": "https://localhost:8080/"
        },
        "id": "lby1uRGMPpyR",
        "outputId": "02537b71-696e-4a80-9596-71002b599751"
      },
      "execution_count": null,
      "outputs": [
        {
          "output_type": "execute_result",
          "data": {
            "text/plain": [
              "['The',\n",
              " '20th',\n",
              " 'century',\n",
              " 'did',\n",
              " \"n't\",\n",
              " 'shower',\n",
              " 'humanity',\n",
              " 'with',\n",
              " 'blessings',\n",
              " ',',\n",
              " 'it',\n",
              " 'cursed',\n",
              " 'us',\n",
              " 'with',\n",
              " 'World',\n",
              " 'Wars',\n",
              " 'I',\n",
              " '&',\n",
              " 'II',\n",
              " '❌',\n",
              " '.',\n",
              " 'From',\n",
              " '28-06-1914',\n",
              " 'to',\n",
              " '11-11-1918',\n",
              " ',',\n",
              " 'the',\n",
              " '``',\n",
              " 'Great',\n",
              " 'War',\n",
              " \"''\",\n",
              " 'did',\n",
              " \"n't\",\n",
              " 'bring',\n",
              " 'glory',\n",
              " 'or',\n",
              " 'honor',\n",
              " ',',\n",
              " 'it',\n",
              " 'unleashed',\n",
              " 'a',\n",
              " 'tide',\n",
              " 'of',\n",
              " 'death',\n",
              " 'and',\n",
              " 'destruction',\n",
              " '.',\n",
              " 'Millions',\n",
              " 'did',\n",
              " \"n't\",\n",
              " 'march',\n",
              " 'valiantly',\n",
              " ',',\n",
              " 'they',\n",
              " 'perished',\n",
              " 'miserably',\n",
              " 'in',\n",
              " 'brutal',\n",
              " 'trench',\n",
              " 'warfare',\n",
              " '🪖☠️',\n",
              " ',',\n",
              " 'leaving',\n",
              " 'Europe',\n",
              " 'not',\n",
              " 'stronger',\n",
              " 'and',\n",
              " 'united',\n",
              " ',',\n",
              " 'but',\n",
              " 'battered',\n",
              " 'and',\n",
              " 'disillusioned',\n",
              " '.',\n",
              " 'Yet',\n",
              " ',',\n",
              " 'the',\n",
              " 'embers',\n",
              " 'of',\n",
              " 'conflict',\n",
              " 'did',\n",
              " \"n't\",\n",
              " 'fade',\n",
              " ',',\n",
              " 'they',\n",
              " 'smoldered',\n",
              " ',',\n",
              " 'igniting',\n",
              " 'anew',\n",
              " 'on',\n",
              " '1-September-1939',\n",
              " 'as',\n",
              " 'Nazi',\n",
              " 'Germany',\n",
              " ',',\n",
              " 'under',\n",
              " 'Hitler',\n",
              " \"'s\",\n",
              " 'tyrannical',\n",
              " 'grip',\n",
              " '☠️',\n",
              " ',',\n",
              " 'did',\n",
              " \"n't\",\n",
              " 'usher',\n",
              " 'in',\n",
              " 'a',\n",
              " 'new',\n",
              " 'era',\n",
              " 'of',\n",
              " 'prosperity',\n",
              " ',',\n",
              " 'it',\n",
              " 'plunged',\n",
              " 'the',\n",
              " 'world',\n",
              " 'into',\n",
              " 'an',\n",
              " 'even',\n",
              " 'more',\n",
              " 'devastating',\n",
              " 'global',\n",
              " 'struggle',\n",
              " '.',\n",
              " 'This',\n",
              " '``',\n",
              " 'Second',\n",
              " 'World',\n",
              " 'War',\n",
              " \"''\",\n",
              " 'did',\n",
              " \"n't\",\n",
              " 'witness',\n",
              " 'advancements',\n",
              " 'for',\n",
              " 'the',\n",
              " 'betterment',\n",
              " 'of',\n",
              " 'humankind',\n",
              " ',',\n",
              " 'it',\n",
              " 'witnessed',\n",
              " 'mechanized',\n",
              " 'warfare',\n",
              " ',',\n",
              " 'the',\n",
              " 'horrors',\n",
              " 'of',\n",
              " 'the',\n",
              " 'Holocaust',\n",
              " '✡️',\n",
              " ',',\n",
              " 'and',\n",
              " 'the',\n",
              " 'first',\n",
              " 'and',\n",
              " 'only',\n",
              " 'use',\n",
              " 'of',\n",
              " 'atomic',\n",
              " 'bombs',\n",
              " ',',\n",
              " 'leaving',\n",
              " 'an',\n",
              " 'estimated',\n",
              " '70-85',\n",
              " 'million',\n",
              " 'casualties',\n",
              " 'in',\n",
              " 'its',\n",
              " 'wake',\n",
              " '.']"
            ]
          },
          "metadata": {},
          "execution_count": 5
        }
      ]
    },
    {
      "cell_type": "code",
      "source": [
        "fd = FreqDist(word_token)\n",
        "fd"
      ],
      "metadata": {
        "colab": {
          "base_uri": "https://localhost:8080/"
        },
        "id": "PfFygqytQeFN",
        "outputId": "bf396a21-7d36-49f8-d240-ad4a86d03ee2"
      },
      "execution_count": null,
      "outputs": [
        {
          "output_type": "execute_result",
          "data": {
            "text/plain": [
              "FreqDist({',': 16, 'the': 7, 'did': 6, \"n't\": 6, 'of': 6, '.': 5, 'and': 5, 'it': 4, 'in': 3, 'with': 2, ...})"
            ]
          },
          "metadata": {},
          "execution_count": 6
        }
      ]
    },
    {
      "cell_type": "code",
      "source": [
        "# Unique count\n",
        "fd.N()"
      ],
      "metadata": {
        "colab": {
          "base_uri": "https://localhost:8080/"
        },
        "id": "n9WYZSbsQrBi",
        "outputId": "d20d768b-3be4-4fb3-fabb-44e29db43e99"
      },
      "execution_count": null,
      "outputs": [
        {
          "output_type": "execute_result",
          "data": {
            "text/plain": [
              "172"
            ]
          },
          "metadata": {},
          "execution_count": 7
        }
      ]
    },
    {
      "cell_type": "code",
      "source": [
        "# Most common words\n",
        "fd.most_common(5)"
      ],
      "metadata": {
        "colab": {
          "base_uri": "https://localhost:8080/"
        },
        "id": "HdzWnPleTxhD",
        "outputId": "56262818-3861-4285-f591-5f9b6fb8896f"
      },
      "execution_count": null,
      "outputs": [
        {
          "output_type": "execute_result",
          "data": {
            "text/plain": [
              "[(',', 16), ('the', 7), ('did', 6), (\"n't\", 6), ('of', 6)]"
            ]
          },
          "metadata": {},
          "execution_count": 8
        }
      ]
    },
    {
      "cell_type": "markdown",
      "source": [
        "b. Count the number of punctuation characters and remove punctuations."
      ],
      "metadata": {
        "id": "ul6ABoP6UyET"
      }
    },
    {
      "cell_type": "code",
      "source": [
        "import string\n",
        "\n",
        "# Count punctuation characters\n",
        "punctuation_count = sum(1 for char in text if char in string.punctuation)\n",
        "\n",
        "# Remove punctuation\n",
        "no_punctuation_text = ''.join([char for char in text if char not in string.punctuation])\n",
        "\n",
        "print(f\"Number of punctuation characters: {punctuation_count}\")\n",
        "print(f\"Text without punctuation: {no_punctuation_text}\")"
      ],
      "metadata": {
        "colab": {
          "base_uri": "https://localhost:8080/"
        },
        "id": "gxS-nDwKT3WU",
        "outputId": "feeedb97-da4e-4c2f-da00-c1d29d3bbeab"
      },
      "execution_count": 9,
      "outputs": [
        {
          "output_type": "stream",
          "name": "stdout",
          "text": [
            "Number of punctuation characters: 40\n",
            "Text without punctuation: The 20th century didnt shower humanity with blessings  it cursed us with World Wars I  II ❌ From 28061914 to 11111918 the Great War didnt bring glory or honor it unleashed a tide of death and destruction  Millions didnt march valiantly they perished miserably in brutal trench warfare 🪖☠️ leaving Europe not stronger and united but battered and disillusioned  Yet the embers of conflict didnt fade they smoldered  igniting anew on 1September1939 as Nazi Germany under Hitlers tyrannical grip ☠️ didnt usher in a new era of prosperity it plunged the world into an even more devastating global struggle  This Second World War didnt witness advancements for the betterment of humankind it witnessed mechanized warfare the horrors of the Holocaust ✡️ and the first and only use of atomic bombs leaving an estimated 7085 million casualties in its wake \n"
          ]
        }
      ]
    },
    {
      "cell_type": "markdown",
      "source": [
        "c. Plot the distribution of stopwords used in the text using barplot."
      ],
      "metadata": {
        "id": "heUAb29LU1du"
      }
    },
    {
      "cell_type": "code",
      "source": [
        "from nltk.corpus import stopwords\n",
        "import matplotlib.pyplot as plt"
      ],
      "metadata": {
        "id": "y1iwHTLDUu9n"
      },
      "execution_count": 10,
      "outputs": []
    },
    {
      "cell_type": "code",
      "source": [
        "nltk.download('stopwords')"
      ],
      "metadata": {
        "colab": {
          "base_uri": "https://localhost:8080/"
        },
        "id": "tTtagweIVClu",
        "outputId": "6f4992be-41b2-484c-da9c-879ae3828a06"
      },
      "execution_count": 11,
      "outputs": [
        {
          "output_type": "stream",
          "name": "stderr",
          "text": [
            "[nltk_data] Downloading package stopwords to /root/nltk_data...\n",
            "[nltk_data]   Unzipping corpora/stopwords.zip.\n"
          ]
        },
        {
          "output_type": "execute_result",
          "data": {
            "text/plain": [
              "True"
            ]
          },
          "metadata": {},
          "execution_count": 11
        }
      ]
    },
    {
      "cell_type": "code",
      "source": [
        "# Preprocessing & count stopwords\n",
        "nltk.download('stopwords')\n",
        "stop_words = set(stopwords.words('english'))\n",
        "tokens = nltk.word_tokenize(text.lower())\n",
        "filtered_tokens = [w for w in tokens if w in stop_words]\n",
        "stopword_counts = nltk.FreqDist(filtered_tokens)\n",
        "\n",
        "# Sort stopwords and counts in descending order\n",
        "sorted_stopwords = sorted(stopword_counts.items(), key=lambda item: item[1], reverse=True)\n",
        "stopwords_list, counts_list = zip(*sorted_stopwords)\n",
        "\n",
        "# Create barplot\n",
        "plt.figure(figsize=(10, 6))\n",
        "plt.bar(stopwords_list, counts_list)\n",
        "plt.xlabel(\"Stopwords\")\n",
        "plt.ylabel(\"Frequency\")\n",
        "plt.title(\"Distribution of Stopwords in the Text (Sorted)\")\n",
        "plt.xticks(rotation=45)  # Rotate labels for better readability\n",
        "plt.tight_layout()\n",
        "plt.show()"
      ],
      "metadata": {
        "colab": {
          "base_uri": "https://localhost:8080/",
          "height": 490
        },
        "id": "wdxcoSpIVKcg",
        "outputId": "2b3b9d66-00b2-4f29-d0af-35e02bdf0656"
      },
      "execution_count": 24,
      "outputs": [
        {
          "output_type": "stream",
          "name": "stderr",
          "text": [
            "[nltk_data] Downloading package stopwords to /root/nltk_data...\n",
            "[nltk_data]   Package stopwords is already up-to-date!\n"
          ]
        },
        {
          "output_type": "display_data",
          "data": {
            "text/plain": [
              "<Figure size 1000x600 with 1 Axes>"
            ],
            "image/png": "[encoded data removed]"
          },
          "metadata": {}
        }
      ]
    },
    {
      "cell_type": "markdown",
      "source": [
        "d. Remove the stopwords from the text."
      ],
      "metadata": {
        "id": "ClWMxyPlW8SW"
      }
    },
    {
      "cell_type": "code",
      "source": [
        "# Join the filtered tokens back into a string\n",
        "text_without_stopwords = \" \".join(filtered_tokens)\n",
        "\n",
        "# Print text without stopwords\n",
        "print(text_without_stopwords)"
      ],
      "metadata": {
        "colab": {
          "base_uri": "https://localhost:8080/"
        },
        "id": "HWTul5ooWWbG",
        "outputId": "820388b7-2c30-42c3-c943-b69172e5b86d"
      },
      "execution_count": 14,
      "outputs": [
        {
          "output_type": "stream",
          "name": "stdout",
          "text": [
            "20th century n't shower humanity blessings , cursed us world wars & ii ❌ . 28-06-1914 11-11-1918 , `` great war '' n't bring glory honor , unleashed tide death destruction . millions n't march valiantly , perished miserably brutal trench warfare 🪖☠️ , leaving europe stronger united , battered disillusioned . yet , embers conflict n't fade , smoldered , igniting anew 1-september-1939 nazi germany , hitler 's tyrannical grip ☠️ , n't usher new era prosperity , plunged world even devastating global struggle . `` second world war '' n't witness advancements betterment humankind , witnessed mechanized warfare , horrors holocaust ✡️ , first use atomic bombs , leaving estimated 70-85 million casualties wake .\n"
          ]
        }
      ]
    },
    {
      "cell_type": "markdown",
      "source": [
        "e. Plot the distribution of each POS Tag using a barplot."
      ],
      "metadata": {
        "id": "Zzyc64rvEJ07"
      }
    },
    {
      "cell_type": "code",
      "source": [
        "from collections import Counter"
      ],
      "metadata": {
        "id": "HljkQK_PXl6l"
      },
      "execution_count": 17,
      "outputs": []
    },
    {
      "cell_type": "code",
      "source": [
        "nltk.download('averaged_perceptron_tagger')"
      ],
      "metadata": {
        "colab": {
          "base_uri": "https://localhost:8080/"
        },
        "id": "J10FdgeoE6-V",
        "outputId": "6b78e962-a264-4973-fa60-288f3332fe4b"
      },
      "execution_count": 19,
      "outputs": [
        {
          "output_type": "stream",
          "name": "stderr",
          "text": [
            "[nltk_data] Downloading package averaged_perceptron_tagger to\n",
            "[nltk_data]     /root/nltk_data...\n",
            "[nltk_data]   Unzipping taggers/averaged_perceptron_tagger.zip.\n"
          ]
        },
        {
          "output_type": "execute_result",
          "data": {
            "text/plain": [
              "True"
            ]
          },
          "metadata": {},
          "execution_count": 19
        }
      ]
    },
    {
      "cell_type": "code",
      "source": [
        "# Tokenize the text\n",
        "tokens = nltk.word_tokenize(text)\n",
        "\n",
        "# Tag tokens with POS tags\n",
        "pos_tags = nltk.pos_tag(tokens)\n",
        "\n",
        "# Get POS tags\n",
        "tags = [tag[1] for tag in pos_tags]\n",
        "\n",
        "# Count occurrences of each POS tag\n",
        "tag_counts = Counter(tags)\n",
        "\n",
        "# Plot the distribution using a bar plot\n",
        "plt.figure(figsize=(10, 6))\n",
        "plt.bar(tag_counts.keys(), tag_counts.values())\n",
        "plt.title('Distribution of POS Tags')\n",
        "plt.xlabel('POS Tags')\n",
        "plt.ylabel('Frequency')\n",
        "plt.xticks(rotation=45)\n",
        "plt.show()"
      ],
      "metadata": {
        "colab": {
          "base_uri": "https://localhost:8080/",
          "height": 511
        },
        "id": "m5zgAdx2XGXx",
        "outputId": "95376355-7357-4d4d-d6f7-e28875dde92b"
      },
      "execution_count": 20,
      "outputs": [
        {
          "output_type": "display_data",
          "data": {
            "text/plain": [
              "<Figure size 1000x600 with 1 Axes>"
            ],
            "image/png": "[encoded data removed]"
          },
          "metadata": {}
        }
      ]
    },
    {
      "cell_type": "markdown",
      "source": [
        "f. Determine the number of unique lemma available in the text."
      ],
      "metadata": {
        "id": "pSX4ZTHWF3VN"
      }
    },
    {
      "cell_type": "code",
      "source": [
        "from nltk.stem import WordNetLemmatizer"
      ],
      "metadata": {
        "id": "dgNLqkubE8Hy"
      },
      "execution_count": 25,
      "outputs": []
    },
    {
      "cell_type": "code",
      "source": [
        "nltk.download('wordnet')"
      ],
      "metadata": {
        "colab": {
          "base_uri": "https://localhost:8080/"
        },
        "id": "caQC6gsiFyhZ",
        "outputId": "fc2ac366-11e3-44a2-e891-63b0c33e26a0"
      },
      "execution_count": 27,
      "outputs": [
        {
          "output_type": "stream",
          "name": "stderr",
          "text": [
            "[nltk_data] Downloading package wordnet to /root/nltk_data...\n"
          ]
        },
        {
          "output_type": "execute_result",
          "data": {
            "text/plain": [
              "True"
            ]
          },
          "metadata": {},
          "execution_count": 27
        }
      ]
    },
    {
      "cell_type": "code",
      "source": [
        "# Remove punctuation and lowercase the tokens\n",
        "tokens = [token.lower() for token in tokens if token not in string.punctuation]\n",
        "\n",
        "# Get English stopwords\n",
        "stop_words = set(stopwords.words('english'))\n",
        "\n",
        "# Filter out the stopwords\n",
        "filtered_tokens = [token for token in tokens if token not in stop_words]\n",
        "\n",
        "# Initialize WordNet Lemmatizer\n",
        "lemmatizer = WordNetLemmatizer()\n",
        "\n",
        "# Lemmatize the tokens\n",
        "lemmas = [lemmatizer.lemmatize(token) for token in filtered_tokens]\n",
        "\n",
        "# Get the number of unique lemmas\n",
        "num_unique_lemmas = len(set(lemmas))\n",
        "\n",
        "print(\"Number of unique lemmas:\", num_unique_lemmas)"
      ],
      "metadata": {
        "colab": {
          "base_uri": "https://localhost:8080/"
        },
        "id": "M64i9VKoFphj",
        "outputId": "80da1c73-c342-485b-e2d6-507a2c67ac2b"
      },
      "execution_count": 28,
      "outputs": [
        {
          "output_type": "stream",
          "name": "stdout",
          "text": [
            "Number of unique lemmas: 81\n"
          ]
        }
      ]
    },
    {
      "cell_type": "markdown",
      "source": [
        "g. Plot the frequency distribution of words in the text. Display only the top 10\n",
        "(most occurring) tokens in the chart."
      ],
      "metadata": {
        "id": "NEWYV6EyF7IE"
      }
    },
    {
      "cell_type": "code",
      "source": [
        "tokens = nltk.word_tokenize(text.lower())\n",
        "stop_words = set(stopwords.words('english'))\n",
        "filtered_tokens = [w for w in tokens if w not in stop_words]\n",
        "\n",
        "# Create a FreqDist and get top 10 words\n",
        "word_counts = nltk.FreqDist(filtered_tokens)\n",
        "top_10_words = word_counts.most_common(10)\n",
        "\n",
        "# Prepare data for barplot\n",
        "words, counts = zip(*top_10_words)\n",
        "\n",
        "# Create barplot\n",
        "plt.figure(figsize=(10, 6))\n",
        "plt.bar(words, counts)\n",
        "plt.xlabel(\"Words\")\n",
        "plt.ylabel(\"Frequency\")\n",
        "plt.title(\"Top 10 Most Frequent Words in the Text\")\n",
        "plt.xticks(rotation=45)  # Rotate labels for better readability\n",
        "plt.tight_layout()\n",
        "plt.show()"
      ],
      "metadata": {
        "colab": {
          "base_uri": "https://localhost:8080/",
          "height": 453
        },
        "id": "Qp8pKRrtGF78",
        "outputId": "b07f0fb9-7873-4a3b-ec19-5eb07291d78e"
      },
      "execution_count": 33,
      "outputs": [
        {
          "output_type": "display_data",
          "data": {
            "text/plain": [
              "<Figure size 1000x600 with 1 Axes>"
            ],
            "image/png": "[encoded data removed]"
          },
          "metadata": {}
        }
      ]
    },
    {
      "cell_type": "markdown",
      "source": [
        "h. Find the number of unique bigrams, trigrams and quadgrams (n=4) in the corpus"
      ],
      "metadata": {
        "id": "AZuu4mNxGt43"
      }
    },
    {
      "cell_type": "code",
      "source": [
        "from nltk import ngrams"
      ],
      "metadata": {
        "id": "RO8Yf5iwG5nm"
      },
      "execution_count": 35,
      "outputs": []
    },
    {
      "cell_type": "code",
      "source": [
        "# Define function to get n-grams\n",
        "def get_ngrams(token_list, n):\n",
        "    return list(ngrams(token_list, n))\n",
        "\n",
        "# Get bigrams, trigrams, and quadgrams\n",
        "bigrams = get_ngrams(tokens, 2)\n",
        "trigrams = get_ngrams(tokens, 3)\n",
        "quadgrams = get_ngrams(tokens, 4)\n",
        "\n",
        "# Find the number of unique bigrams, trigrams, and quadgrams\n",
        "num_unique_bigrams = len(set(bigrams))\n",
        "num_unique_trigrams = len(set(trigrams))\n",
        "num_unique_quadgrams = len(set(quadgrams))\n",
        "\n",
        "print(\"Number of unique bigrams:\", num_unique_bigrams)\n",
        "print(\"Number of unique trigrams:\", num_unique_trigrams)\n",
        "print(\"Number of unique quadgrams:\", num_unique_quadgrams)"
      ],
      "metadata": {
        "colab": {
          "base_uri": "https://localhost:8080/"
        },
        "id": "U-qGFGb0GkmK",
        "outputId": "a4d1fc64-f9b3-444d-8ec6-07502d6258d5"
      },
      "execution_count": 36,
      "outputs": [
        {
          "output_type": "stream",
          "name": "stdout",
          "text": [
            "Number of unique bigrams: 157\n",
            "Number of unique trigrams: 168\n",
            "Number of unique quadgrams: 168\n"
          ]
        }
      ]
    },
    {
      "cell_type": "markdown",
      "source": [
        "i. Find all dates and convert them to the DD-MM-YYYY format."
      ],
      "metadata": {
        "id": "3ivIuQ-yHLSZ"
      }
    },
    {
      "cell_type": "code",
      "source": [
        "import re\n",
        "from datetime import datetime"
      ],
      "metadata": {
        "id": "4hJUZS3AHHCR"
      },
      "execution_count": 38,
      "outputs": []
    },
    {
      "cell_type": "code",
      "source": [
        "# Define regular expression pattern for dates\n",
        "date_pattern = r'\\b(?:\\d{1,2}[./-])?(?:\\d{1,2}[./-])?\\d{4}\\b'\n",
        "\n",
        "# Find all dates in the text\n",
        "dates = re.findall(date_pattern, text)\n",
        "\n",
        "# Function to convert date to DD-MM-YYYY format\n",
        "def convert_to_dd_mm_yyyy(date_str):\n",
        "    formats = ['%d-%m-%Y', '%d/%m/%Y', '%Y-%m-%d']\n",
        "    for fmt in formats:\n",
        "        try:\n",
        "            return datetime.strptime(date_str, fmt).strftime('%d-%m-%Y')\n",
        "        except ValueError:\n",
        "            pass\n",
        "    return date_str  # Return as is if no valid format is found\n",
        "\n",
        "# Convert dates to DD-MM-YYYY format\n",
        "converted_dates = [convert_to_dd_mm_yyyy(date) for date in dates]\n",
        "\n",
        "print(\"Original dates:\", dates)\n",
        "print(\"Converted dates:\", converted_dates)"
      ],
      "metadata": {
        "colab": {
          "base_uri": "https://localhost:8080/"
        },
        "id": "8BaeaobbG3wZ",
        "outputId": "30aff57e-ffa7-4830-8060-bbac81ea184b"
      },
      "execution_count": 39,
      "outputs": [
        {
          "output_type": "stream",
          "name": "stdout",
          "text": [
            "Original dates: ['28-06-1914', '11-11-1918', '1939']\n",
            "Converted dates: ['28-06-1914', '11-11-1918', '1939']\n"
          ]
        }
      ]
    },
    {
      "cell_type": "markdown",
      "source": [
        "j. Plot a distribution of the different values of year occurring in the text."
      ],
      "metadata": {
        "id": "B0VQd6FKHPGo"
      }
    },
    {
      "cell_type": "code",
      "source": [
        "# Define regular expression pattern for years\n",
        "year_pattern = r'\\b\\d{4}\\b'\n",
        "\n",
        "# Find all years in the text\n",
        "years = re.findall(year_pattern, text)\n",
        "\n",
        "# Plot the distribution of the different values of year\n",
        "plt.hist(years, bins=20, color='skyblue', edgecolor='black')\n",
        "plt.title('Distribution of Years')\n",
        "plt.xlabel('Year')\n",
        "plt.ylabel('Frequency')\n",
        "plt.xticks(rotation=45)\n",
        "plt.grid(axis='y', alpha=0.75)\n",
        "plt.show()"
      ],
      "metadata": {
        "colab": {
          "base_uri": "https://localhost:8080/",
          "height": 493
        },
        "id": "CON4sIKJHEio",
        "outputId": "a41db393-79e9-4ccc-ccdc-9ebd9501270b"
      },
      "execution_count": 40,
      "outputs": [
        {
          "output_type": "display_data",
          "data": {
            "text/plain": [
              "<Figure size 640x480 with 1 Axes>"
            ],
            "image/png": "[encoded data removed]"
          },
          "metadata": {}
        }
      ]
    },
    {
      "cell_type": "markdown",
      "source": [
        "k. Determine whether the text contains any phone numbers in it. Ensure the phone\n",
        "numbers are valid if any. If an invalid phone number is found, remove it from\n",
        "the text."
      ],
      "metadata": {
        "id": "ELxIgVc7H2xB"
      }
    },
    {
      "cell_type": "code",
      "source": [
        "!pip install phonenumbers"
      ],
      "metadata": {
        "colab": {
          "base_uri": "https://localhost:8080/"
        },
        "id": "SdkxcmaXHWqK",
        "outputId": "42d24d53-8061-454c-be2f-0dc12d8b2156"
      },
      "execution_count": 42,
      "outputs": [
        {
          "output_type": "stream",
          "name": "stdout",
          "text": [
            "Collecting phonenumbers\n",
            "  Downloading phonenumbers-8.13.30-py2.py3-none-any.whl (2.6 MB)\n",
            "\u001b[2K     \u001b[90m━━━━━━━━━━━━━━━━━━━━━━━━━━━━━━━━━━━━━━━━\u001b[0m \u001b[32m2.6/2.6 MB\u001b[0m \u001b[31m11.5 MB/s\u001b[0m eta \u001b[36m0:00:00\u001b[0m\n",
            "\u001b[?25hInstalling collected packages: phonenumbers\n",
            "Successfully installed phonenumbers-8.13.30\n"
          ]
        }
      ]
    },
    {
      "cell_type": "code",
      "source": [
        "from phonenumbers import geocoder, carrier, is_valid_number, PhoneNumberFormat"
      ],
      "metadata": {
        "id": "ruohDgxnHkbF"
      },
      "execution_count": 43,
      "outputs": []
    },
    {
      "cell_type": "code",
      "source": [
        "# Extract potential phone numbers using regular expression\n",
        "phone_regex = r\"\\d{3}-\\d{3}-\\d{4}\"  # Adjust pattern for your region/format\n",
        "potential_numbers = re.findall(phone_regex, text)\n",
        "\n",
        "# Validate each potential number\n",
        "valid_numbers = []\n",
        "for number in potential_numbers:\n",
        "    try:\n",
        "        parsed_number = phonenumbers.parse(number, \"US\")\n",
        "        if is_valid_number(parsed_number):\n",
        "            valid_numbers.append(parsed_number)\n",
        "    except phonenumbers.phonenumberutil.NumberParseException:\n",
        "        print(f\"Invalid phone number found: {number}\")\n",
        "\n",
        "# Replace invalid numbers with empty string\n",
        "invalid_numbers = [number for number in potential_numbers if number not in valid_numbers]\n",
        "for number in invalid_numbers:\n",
        "    text = text.replace(number, \"\")\n",
        "\n",
        "# Print final text with valid numbers (if any)\n",
        "print(\"Text with valid phone numbers:\")\n",
        "print(text)"
      ],
      "metadata": {
        "colab": {
          "base_uri": "https://localhost:8080/"
        },
        "id": "hYSgtRJyIQ2q",
        "outputId": "f121b2c4-b946-4075-e673-e2682d07546b"
      },
      "execution_count": 44,
      "outputs": [
        {
          "output_type": "stream",
          "name": "stdout",
          "text": [
            "Text with valid phone numbers:\n",
            "The 20th century didn't shower humanity with blessings , it cursed us with World Wars I & II ❌. From 28-06-1914 to 11-11-1918, the \"Great War\" didn't bring glory or honor, it unleashed a tide of death and destruction . Millions didn't march valiantly, they perished miserably in brutal trench warfare 🪖☠️, leaving Europe not stronger and united, but battered and disillusioned . Yet, the embers of conflict didn't fade, they smoldered , igniting anew on 1-September-1939 as Nazi Germany, under Hitler's tyrannical grip ☠️, didn't usher in a new era of prosperity, it plunged the world into an even more devastating global struggle . This \"Second World War\" didn't witness advancements for the betterment of humankind, it witnessed mechanized warfare, the horrors of the Holocaust ✡️, and the first and only use of atomic bombs, leaving an estimated 70-85 million casualties in its wake .\n"
          ]
        }
      ]
    },
    {
      "cell_type": "code",
      "source": [],
      "metadata": {
        "id": "6yKljPhRI21j"
      },
      "execution_count": null,
      "outputs": []
    }
  ]
}