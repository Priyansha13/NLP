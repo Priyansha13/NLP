{
  "cells": [
    {
      "cell_type": "code",
      "execution_count": 1,
      "metadata": {
        "colab": {
          "base_uri": "https://localhost:8080/"
        },
        "id": "iXfVg0iuy1KI",
        "outputId": "2d5a2d69-6cbe-4d96-9db5-606fc6fb4eec"
      },
      "outputs": [
        {
          "output_type": "stream",
          "name": "stderr",
          "text": [
            "[nltk_data] Downloading package punkt to /root/nltk_data...\n",
            "[nltk_data]   Unzipping tokenizers/punkt.zip.\n",
            "[nltk_data] Downloading package averaged_perceptron_tagger to\n",
            "[nltk_data]     /root/nltk_data...\n",
            "[nltk_data]   Unzipping taggers/averaged_perceptron_tagger.zip.\n"
          ]
        },
        {
          "output_type": "execute_result",
          "data": {
            "text/plain": [
              "True"
            ]
          },
          "metadata": {},
          "execution_count": 1
        }
      ],
      "source": [
        "import nltk\n",
        "nltk.download('punkt')\n",
        "from nltk.tokenize import word_tokenize, sent_tokenize, wordpunct_tokenize, TreebankWordTokenizer, TweetTokenizer, MWETokenizer\n",
        "nltk.download('averaged_perceptron_tagger')"
      ]
    },
    {
      "cell_type": "markdown",
      "metadata": {
        "id": "LBTrLN9-zESo"
      },
      "source": [
        "a. Word Tokenization"
      ]
    },
    {
      "cell_type": "code",
      "execution_count": 2,
      "metadata": {
        "id": "69wtV2Smy-dH"
      },
      "outputs": [],
      "source": [
        "text=\"The financial jungle  is constantly growing, with new tech  and rules ⚖️ popping up all the time! Understanding these changes is crucial for making informed decisions about your money. whether you're saving for retirement , playing the stock market , or just juggling daily bills ‍♀️. Don't be shy to ask questions ❓ and seek professional help ‍‍‍⚖️ if needed!  Remember, financial knowledge is power , so grab the reins ‍♀️ and take control of your future!\"\n"
      ]
    },
    {
      "cell_type": "code",
      "execution_count": 3,
      "metadata": {
        "colab": {
          "base_uri": "https://localhost:8080/"
        },
        "id": "kp1HH3pX1Fla",
        "outputId": "69947896-a5b1-4629-db7d-4129ce8769ff"
      },
      "outputs": [
        {
          "output_type": "stream",
          "name": "stdout",
          "text": [
            "['The', 'financial', 'jungle', 'is', 'constantly', 'growing', ',', 'with', 'new', 'tech', 'and', 'rules', '⚖️', 'popping', 'up', 'all', 'the', 'time', '!', 'Understanding', 'these', 'changes', 'is', 'crucial', 'for', 'making', 'informed', 'decisions', 'about', 'your', 'money', '.', 'whether', 'you', \"'re\", 'saving', 'for', 'retirement', ',', 'playing', 'the', 'stock', 'market', ',', 'or', 'just', 'juggling', 'daily', 'bills', '\\u200d♀️', '.', 'Do', \"n't\", 'be', 'shy', 'to', 'ask', 'questions', '❓', 'and', 'seek', 'professional', 'help', '\\u200d\\u200d\\u200d⚖️', 'if', 'needed', '!', 'Remember', ',', 'financial', 'knowledge', 'is', 'power', ',', 'so', 'grab', 'the', 'reins', '\\u200d♀️', 'and', 'take', 'control', 'of', 'your', 'future', '!']\n"
          ]
        }
      ],
      "source": [
        "wordtoken=[]\n",
        "wordtoken=word_tokenize(text)\n",
        "print(wordtoken)"
      ]
    },
    {
      "cell_type": "markdown",
      "metadata": {
        "id": "FwAK1NvZ1N46"
      },
      "source": [
        "b. Sentence Tokenization"
      ]
    },
    {
      "cell_type": "code",
      "execution_count": 4,
      "metadata": {
        "colab": {
          "base_uri": "https://localhost:8080/"
        },
        "id": "xd8YW8151Gds",
        "outputId": "a9ce8b99-68e2-4d02-8b0d-44d9a0ed679b"
      },
      "outputs": [
        {
          "output_type": "execute_result",
          "data": {
            "text/plain": [
              "['The financial jungle  is constantly growing, with new tech  and rules ⚖️ popping up all the time!',\n",
              " 'Understanding these changes is crucial for making informed decisions about your money.',\n",
              " \"whether you're saving for retirement , playing the stock market , or just juggling daily bills \\u200d♀️.\",\n",
              " \"Don't be shy to ask questions ❓ and seek professional help \\u200d\\u200d\\u200d⚖️ if needed!\",\n",
              " 'Remember, financial knowledge is power , so grab the reins \\u200d♀️ and take control of your future!']"
            ]
          },
          "metadata": {},
          "execution_count": 4
        }
      ],
      "source": [
        "sentences=[]\n",
        "sentences=sent_tokenize(text)\n",
        "sentences"
      ]
    },
    {
      "cell_type": "markdown",
      "metadata": {
        "id": "4OKETAnT1Pq4"
      },
      "source": [
        "c. Punctuation-based Tokenizer"
      ]
    },
    {
      "cell_type": "code",
      "execution_count": 5,
      "metadata": {
        "colab": {
          "base_uri": "https://localhost:8080/"
        },
        "id": "PJGOcoFl1J8Z",
        "outputId": "ea862c47-77d1-481a-dc96-fe5d9ef9a938"
      },
      "outputs": [
        {
          "output_type": "execute_result",
          "data": {
            "text/plain": [
              "['The',\n",
              " 'financial',\n",
              " 'jungle',\n",
              " 'is',\n",
              " 'constantly',\n",
              " 'growing',\n",
              " ',',\n",
              " 'with',\n",
              " 'new',\n",
              " 'tech',\n",
              " 'and',\n",
              " 'rules',\n",
              " '⚖️',\n",
              " 'popping',\n",
              " 'up',\n",
              " 'all',\n",
              " 'the',\n",
              " 'time',\n",
              " '!',\n",
              " 'Understanding',\n",
              " 'these',\n",
              " 'changes',\n",
              " 'is',\n",
              " 'crucial',\n",
              " 'for',\n",
              " 'making',\n",
              " 'informed',\n",
              " 'decisions',\n",
              " 'about',\n",
              " 'your',\n",
              " 'money',\n",
              " '.',\n",
              " 'whether',\n",
              " 'you',\n",
              " \"'\",\n",
              " 're',\n",
              " 'saving',\n",
              " 'for',\n",
              " 'retirement',\n",
              " ',',\n",
              " 'playing',\n",
              " 'the',\n",
              " 'stock',\n",
              " 'market',\n",
              " ',',\n",
              " 'or',\n",
              " 'just',\n",
              " 'juggling',\n",
              " 'daily',\n",
              " 'bills',\n",
              " '\\u200d♀️.',\n",
              " 'Don',\n",
              " \"'\",\n",
              " 't',\n",
              " 'be',\n",
              " 'shy',\n",
              " 'to',\n",
              " 'ask',\n",
              " 'questions',\n",
              " '❓',\n",
              " 'and',\n",
              " 'seek',\n",
              " 'professional',\n",
              " 'help',\n",
              " '\\u200d\\u200d\\u200d⚖️',\n",
              " 'if',\n",
              " 'needed',\n",
              " '!',\n",
              " 'Remember',\n",
              " ',',\n",
              " 'financial',\n",
              " 'knowledge',\n",
              " 'is',\n",
              " 'power',\n",
              " ',',\n",
              " 'so',\n",
              " 'grab',\n",
              " 'the',\n",
              " 'reins',\n",
              " '\\u200d♀️',\n",
              " 'and',\n",
              " 'take',\n",
              " 'control',\n",
              " 'of',\n",
              " 'your',\n",
              " 'future',\n",
              " '!']"
            ]
          },
          "metadata": {},
          "execution_count": 5
        }
      ],
      "source": [
        "punctuation=[]\n",
        "punctuation=wordpunct_tokenize(text)\n",
        "punctuation"
      ]
    },
    {
      "cell_type": "markdown",
      "metadata": {
        "id": "UHTBi9gK2KEY"
      },
      "source": [
        "d. Treebank Word tokenizer"
      ]
    },
    {
      "cell_type": "code",
      "execution_count": 6,
      "metadata": {
        "colab": {
          "base_uri": "https://localhost:8080/"
        },
        "id": "ps3eDTsB2Bbc",
        "outputId": "0a01b13e-b925-47e9-b160-bbcd43c38185"
      },
      "outputs": [
        {
          "output_type": "stream",
          "name": "stdout",
          "text": [
            "['The', 'financial', 'jungle', 'is', 'constantly', 'growing', ',', 'with', 'new', 'tech', 'and', 'rules', '⚖️', 'popping', 'up', 'all', 'the', 'time', '!', 'Understanding', 'these', 'changes', 'is', 'crucial', 'for', 'making', 'informed', 'decisions', 'about', 'your', 'money.', 'whether', 'you', \"'re\", 'saving', 'for', 'retirement', ',', 'playing', 'the', 'stock', 'market', ',', 'or', 'just', 'juggling', 'daily', 'bills', '\\u200d♀️.', 'Do', \"n't\", 'be', 'shy', 'to', 'ask', 'questions', '❓', 'and', 'seek', 'professional', 'help', '\\u200d\\u200d\\u200d⚖️', 'if', 'needed', '!', 'Remember', ',', 'financial', 'knowledge', 'is', 'power', ',', 'so', 'grab', 'the', 'reins', '\\u200d♀️', 'and', 'take', 'control', 'of', 'your', 'future', '!']\n"
          ]
        }
      ],
      "source": [
        "tokenizer = TreebankWordTokenizer()\n",
        "print(tokenizer.tokenize(text))"
      ]
    },
    {
      "cell_type": "markdown",
      "metadata": {
        "id": "Gqse6Edr204b"
      },
      "source": [
        "e. Tweet Tokenizer"
      ]
    },
    {
      "cell_type": "code",
      "execution_count": 7,
      "metadata": {
        "colab": {
          "base_uri": "https://localhost:8080/"
        },
        "id": "yxpJ427D2kUN",
        "outputId": "7e68403e-b73a-45e4-8886-afe858e4fcf1"
      },
      "outputs": [
        {
          "output_type": "stream",
          "name": "stdout",
          "text": [
            "['The', 'financial', 'jungle', 'is', 'constantly', 'growing', ',', 'with', 'new', 'tech', 'and', 'rules', '⚖', '️', 'popping', 'up', 'all', 'the', 'time', '!', 'Understanding', 'these', 'changes', 'is', 'crucial', 'for', 'making', 'informed', 'decisions', 'about', 'your', 'money', '.', 'whether', \"you're\", 'saving', 'for', 'retirement', ',', 'playing', 'the', 'stock', 'market', ',', 'or', 'just', 'juggling', 'daily', 'bills', ' \\u200d♀', '️', '.', \"Don't\", 'be', 'shy', 'to', 'ask', 'questions', '❓', 'and', 'seek', 'professional', 'help', ' \\u200d\\u200d\\u200d⚖', '️', 'if', 'needed', '!', 'Remember', ',', 'financial', 'knowledge', 'is', 'power', ',', 'so', 'grab', 'the', 'reins', ' \\u200d♀', '️', 'and', 'take', 'control', 'of', 'your', 'future', '!']\n"
          ]
        }
      ],
      "source": [
        "tokenizer1 = TweetTokenizer()\n",
        "print(tokenizer1.tokenize(text))"
      ]
    },
    {
      "cell_type": "markdown",
      "metadata": {
        "id": "D6JQm-Ij3UJV"
      },
      "source": [
        "f. Multi-Word Expression Tokenizer"
      ]
    },
    {
      "cell_type": "code",
      "execution_count": 8,
      "metadata": {
        "colab": {
          "base_uri": "https://localhost:8080/"
        },
        "id": "rJ9FHM3T3O6M",
        "outputId": "46bbf4f7-5bfa-4643-ce0a-bae5a95d58fd"
      },
      "outputs": [
        {
          "output_type": "stream",
          "name": "stdout",
          "text": [
            "Multi-Word Expression Tokenizer:\n",
            "['The', 'financial', 'jungle', 'is', 'constantly', 'growing,', 'with', 'new', 'tech', 'and', 'rules', '⚖️', 'popping', 'up', 'all', 'the', 'time!', 'Understanding', 'these', 'changes', 'is', 'crucial', 'for', 'making', 'informed', 'decisions', 'about', 'your', 'money.', 'whether', \"you're\", 'saving', 'for', 'retirement', ',', 'playing', 'the', 'stock_market', ',', 'or', 'just', 'juggling', 'daily_bills', '\\u200d♀️.', \"Don't\", 'be', 'shy', 'to', 'ask', 'questions', '❓', 'and', 'seek', 'professional', 'help', '\\u200d\\u200d\\u200d⚖️', 'if', 'needed!', 'Remember,', 'financial_knowledge', 'is', 'power', ',', 'so', 'grab', 'the', 'reins', '\\u200d♀️', 'and', 'take', 'control', 'of', 'your', 'future!']\n",
            "\n"
          ]
        }
      ],
      "source": [
        "mwe_tokenizer = MWETokenizer([('stock', 'market'), ('daily', 'bills'), ('financial', 'knowledge')])\n",
        "mwe_tokens = mwe_tokenizer.tokenize(text.split())\n",
        "\n",
        "print(\"Multi-Word Expression Tokenizer:\")\n",
        "print(mwe_tokens)\n",
        "print()\n"
      ]
    },
    {
      "cell_type": "markdown",
      "source": [
        "g. TextBlob Word Tokenize"
      ],
      "metadata": {
        "id": "-BAl2hlz0AiA"
      }
    },
    {
      "cell_type": "code",
      "execution_count": 9,
      "metadata": {
        "id": "pIt5Qo6k3usW"
      },
      "outputs": [],
      "source": [
        "from textblob import TextBlob"
      ]
    },
    {
      "cell_type": "code",
      "source": [
        "blob = TextBlob(text)\n",
        "blob_tokens = blob.words\n",
        "\n",
        "print(\"TextBlob Word Tokenize:\")\n",
        "print(blob_tokens)\n",
        "print()\n"
      ],
      "metadata": {
        "colab": {
          "base_uri": "https://localhost:8080/"
        },
        "id": "rT558o2_z_oD",
        "outputId": "80516328-f3a3-457f-cd33-6567f0378d50"
      },
      "execution_count": 10,
      "outputs": [
        {
          "output_type": "stream",
          "name": "stdout",
          "text": [
            "TextBlob Word Tokenize:\n",
            "['The', 'financial', 'jungle', 'is', 'constantly', 'growing', 'with', 'new', 'tech', 'and', 'rules', '⚖️', 'popping', 'up', 'all', 'the', 'time', 'Understanding', 'these', 'changes', 'is', 'crucial', 'for', 'making', 'informed', 'decisions', 'about', 'your', 'money', 'whether', 'you', \"'re\", 'saving', 'for', 'retirement', 'playing', 'the', 'stock', 'market', 'or', 'just', 'juggling', 'daily', 'bills', '\\u200d♀️', 'Do', \"n't\", 'be', 'shy', 'to', 'ask', 'questions', '❓', 'and', 'seek', 'professional', 'help', '\\u200d\\u200d\\u200d⚖️', 'if', 'needed', 'Remember', 'financial', 'knowledge', 'is', 'power', 'so', 'grab', 'the', 'reins', '\\u200d♀️', 'and', 'take', 'control', 'of', 'your', 'future']\n",
            "\n"
          ]
        }
      ]
    },
    {
      "cell_type": "markdown",
      "source": [
        "h. spaCy Tokenizer"
      ],
      "metadata": {
        "id": "7KDpT7Ni0QLw"
      }
    },
    {
      "cell_type": "code",
      "source": [
        "import spacy"
      ],
      "metadata": {
        "id": "5K5Il0OI0OzN"
      },
      "execution_count": 11,
      "outputs": []
    },
    {
      "cell_type": "code",
      "source": [
        "nlp = spacy.load(\"en_core_web_sm\")\n",
        "spacy_tokens = [token.text for token in nlp(text)]\n",
        "\n",
        "print(\"spaCy Tokenizer:\")\n",
        "print(spacy_tokens)\n",
        "print()"
      ],
      "metadata": {
        "colab": {
          "base_uri": "https://localhost:8080/"
        },
        "id": "fjf0OJYD0S-r",
        "outputId": "2b76fcf7-c8e5-4158-b781-b15319cf2778"
      },
      "execution_count": 12,
      "outputs": [
        {
          "output_type": "stream",
          "name": "stdout",
          "text": [
            "spaCy Tokenizer:\n",
            "['The', 'financial', 'jungle', ' ', 'is', 'constantly', 'growing', ',', 'with', 'new', 'tech', ' ', 'and', 'rules', '⚖', '️', 'popping', 'up', 'all', 'the', 'time', '!', 'Understanding', 'these', 'changes', 'is', 'crucial', 'for', 'making', 'informed', 'decisions', 'about', 'your', 'money', '.', 'whether', 'you', \"'re\", 'saving', 'for', 'retirement', ',', 'playing', 'the', 'stock', 'market', ',', 'or', 'just', 'juggling', 'daily', 'bills', '\\u200d', '♀', '️.', 'Do', \"n't\", 'be', 'shy', 'to', 'ask', 'questions', '❓', 'and', 'seek', 'professional', 'help', '\\u200d\\u200d\\u200d', '⚖', '️', 'if', 'needed', '!', ' ', 'Remember', ',', 'financial', 'knowledge', 'is', 'power', ',', 'so', 'grab', 'the', 'reins', '\\u200d', '♀', '️', 'and', 'take', 'control', 'of', 'your', 'future', '!']\n",
            "\n"
          ]
        }
      ]
    },
    {
      "cell_type": "markdown",
      "source": [
        "i. Gensim word tokenizer"
      ],
      "metadata": {
        "id": "5XoC61xn0bXf"
      }
    },
    {
      "cell_type": "code",
      "source": [
        "from gensim.utils import tokenize"
      ],
      "metadata": {
        "id": "TIqJp5pK0YE5"
      },
      "execution_count": 13,
      "outputs": []
    },
    {
      "cell_type": "code",
      "source": [
        "gensim_tokens = list(tokenize(text))\n",
        "\n",
        "print(\"Gensim word tokenizer:\")\n",
        "print(gensim_tokens)\n",
        "print()"
      ],
      "metadata": {
        "colab": {
          "base_uri": "https://localhost:8080/"
        },
        "id": "pwZSawGp0ewi",
        "outputId": "75e3ae90-f640-4d18-e514-b4514a341aab"
      },
      "execution_count": 14,
      "outputs": [
        {
          "output_type": "stream",
          "name": "stdout",
          "text": [
            "Gensim word tokenizer:\n",
            "['The', 'financial', 'jungle', 'is', 'constantly', 'growing', 'with', 'new', 'tech', 'and', 'rules', 'popping', 'up', 'all', 'the', 'time', 'Understanding', 'these', 'changes', 'is', 'crucial', 'for', 'making', 'informed', 'decisions', 'about', 'your', 'money', 'whether', 'you', 're', 'saving', 'for', 'retirement', 'playing', 'the', 'stock', 'market', 'or', 'just', 'juggling', 'daily', 'bills', 'Don', 't', 'be', 'shy', 'to', 'ask', 'questions', 'and', 'seek', 'professional', 'help', 'if', 'needed', 'Remember', 'financial', 'knowledge', 'is', 'power', 'so', 'grab', 'the', 'reins', 'and', 'take', 'control', 'of', 'your', 'future']\n",
            "\n"
          ]
        }
      ]
    },
    {
      "cell_type": "markdown",
      "source": [
        "j. Tokenization with Keras"
      ],
      "metadata": {
        "id": "rLpsNvW70kGc"
      }
    },
    {
      "cell_type": "code",
      "source": [
        "from keras.preprocessing.text import text_to_word_sequence"
      ],
      "metadata": {
        "id": "EF1xXOte0ouS"
      },
      "execution_count": 15,
      "outputs": []
    },
    {
      "cell_type": "code",
      "source": [
        "keras_tokens = text_to_word_sequence(text)\n",
        "\n",
        "print(\"Tokenization with Keras:\")\n",
        "print(keras_tokens)"
      ],
      "metadata": {
        "colab": {
          "base_uri": "https://localhost:8080/"
        },
        "id": "8YZ-h4GQ0ipr",
        "outputId": "2548e11c-1c14-4744-8c76-d99e14789bf2"
      },
      "execution_count": 16,
      "outputs": [
        {
          "output_type": "stream",
          "name": "stdout",
          "text": [
            "Tokenization with Keras:\n",
            "['the', 'financial', 'jungle', 'is', 'constantly', 'growing', 'with', 'new', 'tech', 'and', 'rules', '⚖️', 'popping', 'up', 'all', 'the', 'time', 'understanding', 'these', 'changes', 'is', 'crucial', 'for', 'making', 'informed', 'decisions', 'about', 'your', 'money', 'whether', \"you're\", 'saving', 'for', 'retirement', 'playing', 'the', 'stock', 'market', 'or', 'just', 'juggling', 'daily', 'bills', '\\u200d♀️', \"don't\", 'be', 'shy', 'to', 'ask', 'questions', '❓', 'and', 'seek', 'professional', 'help', '\\u200d\\u200d\\u200d⚖️', 'if', 'needed', 'remember', 'financial', 'knowledge', 'is', 'power', 'so', 'grab', 'the', 'reins', '\\u200d♀️', 'and', 'take', 'control', 'of', 'your', 'future']\n"
          ]
        }
      ]
    },
    {
      "cell_type": "code",
      "source": [],
      "metadata": {
        "id": "7o7Kt2wt0qqs"
      },
      "execution_count": null,
      "outputs": []
    }
  ],
  "metadata": {
    "colab": {
      "provenance": []
    },
    "kernelspec": {
      "display_name": "Python 3",
      "name": "python3"
    },
    "language_info": {
      "name": "python"
    }
  },
  "nbformat": 4,
  "nbformat_minor": 0
}