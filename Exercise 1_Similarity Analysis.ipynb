{
 "cells": [
  {
   "cell_type": "code",
   "execution_count": 1,
   "id": "f0d6709b",
   "metadata": {
    "scrolled": true
   },
   "outputs": [],
   "source": [
    "import nltk\n",
    "from nltk.corpus import stopwords\n",
    "from nltk.tokenize import word_tokenize"
   ]
  },
  {
   "cell_type": "code",
   "execution_count": 2,
   "id": "3189cec7",
   "metadata": {},
   "outputs": [
    {
     "name": "stderr",
     "output_type": "stream",
     "text": [
      "[nltk_data] Downloading package punkt to\n",
      "[nltk_data]     C:\\Users\\PRIYANSHU\\AppData\\Roaming\\nltk_data...\n",
      "[nltk_data]   Unzipping tokenizers\\punkt.zip.\n",
      "[nltk_data] Downloading package stopwords to\n",
      "[nltk_data]     C:\\Users\\PRIYANSHU\\AppData\\Roaming\\nltk_data...\n",
      "[nltk_data]   Package stopwords is already up-to-date!\n"
     ]
    },
    {
     "data": {
      "text/plain": [
       "True"
      ]
     },
     "execution_count": 2,
     "metadata": {},
     "output_type": "execute_result"
    }
   ],
   "source": [
    "nltk.download('punkt')\n",
    "nltk.download('stopwords')"
   ]
  },
  {
   "cell_type": "code",
   "execution_count": 3,
   "id": "323559b3",
   "metadata": {},
   "outputs": [],
   "source": [
    "document1 = \"The recent economic downturn has significantly impacted the global financial landscape. Stock markets have experienced volatility, leading to investor concerns and potential losses. Central banks are implementing quantitative easing measures to stimulate economic growth, but their effectiveness remains under debate. Furthermore, rising inflation puts pressure on household budgets and raises concerns about economic stability. Overall, the current financial climate presents both challenges and opportunities for individuals and institutions, requiring careful analysis and informed decision-making.\""
   ]
  },
  {
   "cell_type": "code",
   "execution_count": 4,
   "id": "c7a5a356",
   "metadata": {},
   "outputs": [],
   "source": [
    "document2 = \"The emergence of new fintech solutions is revolutionizing the financial sector. Blockchain technology enables secure and transparent financial transactions, disrupting traditional institutions. Robo-advisors provide automated investment management services, democratizing access to wealth management. Crowdfunding platforms offer alternative pathways for businesses to raise capital. These innovations challenge existing financial structures and create new opportunities for financial inclusion and efficiency. However, regulatory frameworks need to adapt to accommodate these advancements while ensuring consumer protection and financial stability.\""
   ]
  },
  {
   "cell_type": "markdown",
   "id": "ee9aaa6e",
   "metadata": {},
   "source": [
    "#### Cosine Similarity"
   ]
  },
  {
   "cell_type": "code",
   "execution_count": 5,
   "id": "00780fdc",
   "metadata": {},
   "outputs": [],
   "source": [
    "def preprocess_text(text):\n",
    "    stop_words = set(stopwords.words('english'))\n",
    "    word_tokens = word_tokenize(text.lower())\n",
    "    filtered_tokens = [word for word in word_tokens if word.isalnum() and word not in stop_words]\n",
    "    return set(filtered_tokens)"
   ]
  },
  {
   "cell_type": "code",
   "execution_count": 8,
   "id": "a3ad22d9",
   "metadata": {},
   "outputs": [],
   "source": [
    "def cosine_similarity(document1, document2):\n",
    "    doc1_tokens = preprocess_text(document1)\n",
    "    doc2_tokens = preprocess_text(document2)\n",
    "    intersection = doc1_tokens.intersection(doc2_tokens)\n",
    "    return len(intersection) / (len(doc1_tokens) * len(doc2_tokens))**0.5"
   ]
  },
  {
   "cell_type": "code",
   "execution_count": 9,
   "id": "69eddcdb",
   "metadata": {},
   "outputs": [
    {
     "name": "stdout",
     "output_type": "stream",
     "text": [
      "Cosine Similarity: 0.08001600480160055\n"
     ]
    }
   ],
   "source": [
    "cosine_sim = cosine_similarity(document1, document2)\n",
    "print(\"Cosine Similarity:\", cosine_sim)"
   ]
  },
  {
   "cell_type": "markdown",
   "id": "4fc49e4f",
   "metadata": {},
   "source": [
    "#### Jaccard Similarity"
   ]
  },
  {
   "cell_type": "code",
   "execution_count": 10,
   "id": "994114ca",
   "metadata": {},
   "outputs": [],
   "source": [
    "def jaccard_similarity(doc1, doc2):\n",
    "    doc1_tokens = preprocess_text(doc1)\n",
    "    doc2_tokens = preprocess_text(doc2)\n",
    "    \n",
    "    intersection = doc1_tokens.intersection(doc2_tokens)\n",
    "    union = doc1_tokens.union(doc2_tokens)\n",
    "    return len(intersection) / len(union)"
   ]
  },
  {
   "cell_type": "code",
   "execution_count": 11,
   "id": "942db568",
   "metadata": {},
   "outputs": [
    {
     "name": "stdout",
     "output_type": "stream",
     "text": [
      "Jaccard Similarity: 0.041666666666666664\n"
     ]
    }
   ],
   "source": [
    "jaccard_sim = jaccard_similarity(document1, document2)\n",
    "print(\"Jaccard Similarity:\", jaccard_sim)"
   ]
  },
  {
   "cell_type": "markdown",
   "id": "3eb439d4",
   "metadata": {},
   "source": [
    "#### TF-IDF"
   ]
  },
  {
   "cell_type": "code",
   "execution_count": 12,
   "id": "468bd881",
   "metadata": {},
   "outputs": [],
   "source": [
    "from sklearn.feature_extraction.text import TfidfVectorizer\n",
    "from sklearn.metrics.pairwise import cosine_similarity"
   ]
  },
  {
   "cell_type": "code",
   "execution_count": 13,
   "id": "d3dc94e2",
   "metadata": {},
   "outputs": [],
   "source": [
    "def tfidf_similarity(doc1, doc2):\n",
    "    vectorizer = TfidfVectorizer()\n",
    "    tfidf_matrix = vectorizer.fit_transform([doc1, doc2])\n",
    "    similarity = cosine_similarity(tfidf_matrix[0], tfidf_matrix[1])\n",
    "    return similarity[0][0]"
   ]
  },
  {
   "cell_type": "code",
   "execution_count": 14,
   "id": "3f291124",
   "metadata": {},
   "outputs": [
    {
     "name": "stdout",
     "output_type": "stream",
     "text": [
      "TF-IDF Similarity: 0.2658574875231505\n"
     ]
    }
   ],
   "source": [
    "tfidf_sim = tfidf_similarity(document1, document2)\n",
    "print(\"TF-IDF Similarity:\", tfidf_sim)"
   ]
  },
  {
   "cell_type": "markdown",
   "id": "5e81184e",
   "metadata": {},
   "source": [
    "#### Doc2Vec"
   ]
  },
  {
   "cell_type": "code",
   "execution_count": 27,
   "id": "efe08f18",
   "metadata": {},
   "outputs": [],
   "source": [
    "from gensim.models.doc2vec import Doc2Vec, TaggedDocument\n",
    "from scipy import spatial"
   ]
  },
  {
   "cell_type": "code",
   "execution_count": 28,
   "id": "ae62d061",
   "metadata": {},
   "outputs": [],
   "source": [
    "# Tokenize documents\n",
    "tokenized_doc1 = word_tokenize(document1.lower())\n",
    "tokenized_doc2 = word_tokenize(document2.lower())"
   ]
  },
  {
   "cell_type": "code",
   "execution_count": 29,
   "id": "1a4d8b9a",
   "metadata": {},
   "outputs": [],
   "source": [
    "# Tag documents\n",
    "tagged_doc1 = TaggedDocument(words=tokenized_doc1, tags=[0])\n",
    "tagged_doc2 = TaggedDocument(words=tokenized_doc2, tags=[1])"
   ]
  },
  {
   "cell_type": "code",
   "execution_count": 30,
   "id": "5f8be3ac",
   "metadata": {},
   "outputs": [],
   "source": [
    "# Train Doc2Vec model\n",
    "documents = [tagged_doc1, tagged_doc2]\n",
    "model = Doc2Vec(documents, vector_size=100, window=5, min_count=1, workers=4)"
   ]
  },
  {
   "cell_type": "code",
   "execution_count": 31,
   "id": "240c2ed9",
   "metadata": {},
   "outputs": [],
   "source": [
    "def doc_vector_similarity(doc1, doc2, model):\n",
    "    doc1_vector = model.infer_vector(doc1)\n",
    "    doc2_vector = model.infer_vector(doc2)\n",
    "    \n",
    "    similarity = 1 - spatial.distance.cosine(doc1_vector, doc2_vector)\n",
    "    return similarity"
   ]
  },
  {
   "cell_type": "code",
   "execution_count": 32,
   "id": "d79a3cbe",
   "metadata": {},
   "outputs": [
    {
     "name": "stdout",
     "output_type": "stream",
     "text": [
      "Doc2Vec Similarity: 0.459432989358902\n"
     ]
    }
   ],
   "source": [
    "# Calculate similarity\n",
    "doc2vec_sim = doc_vector_similarity(tokenized_doc1, tokenized_doc2, model)\n",
    "print(\"Doc2Vec Similarity:\", doc2vec_sim)"
   ]
  },
  {
   "cell_type": "code",
   "execution_count": null,
   "id": "2f900fff",
   "metadata": {},
   "outputs": [],
   "source": []
  }
 ],
 "metadata": {
  "kernelspec": {
   "display_name": "Python 3",
   "language": "python",
   "name": "python3"
  },
  "language_info": {
   "codemirror_mode": {
    "name": "ipython",
    "version": 3
   },
   "file_extension": ".py",
   "mimetype": "text/x-python",
   "name": "python",
   "nbconvert_exporter": "python",
   "pygments_lexer": "ipython3",
   "version": "3.8.8"
  }
 },
 "nbformat": 4,
 "nbformat_minor": 5
}
