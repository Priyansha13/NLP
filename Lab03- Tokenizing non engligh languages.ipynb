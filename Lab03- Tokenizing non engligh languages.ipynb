{
 "cells": [
  {
   "cell_type": "markdown",
   "id": "8b9a4a6c",
   "metadata": {},
   "source": [
    "### Custom Tokenizer: Hindi"
   ]
  },
  {
   "cell_type": "code",
   "execution_count": 1,
   "id": "b98fc7a3",
   "metadata": {},
   "outputs": [],
   "source": [
    "import re"
   ]
  },
  {
   "cell_type": "code",
   "execution_count": 3,
   "id": "ea7a1e96",
   "metadata": {},
   "outputs": [],
   "source": [
    "# Define Hindi alphabet and punctuation\n",
    "hindi_letters = \"कखगघङचछजझञटठडढणतथदध्नपफबभमयरलवशषसह\"\n",
    "punctuation = \"।,;:?!()[]{}\""
   ]
  },
  {
   "cell_type": "code",
   "execution_count": 4,
   "id": "e60d18ac",
   "metadata": {},
   "outputs": [],
   "source": [
    "def tokenize(text):\n",
    "# Normalize text\n",
    "    text = text.strip()\n",
    "    text = text.lower()\n",
    "\n",
    "# Split into words\n",
    "    tokens = re.findall(r\"[\" + hindi_letters + \"']+|[^\\s\" + punctuation + \"]+\", text)\n",
    "\n",
    "    return tokens"
   ]
  },
  {
   "cell_type": "code",
   "execution_count": 2,
   "id": "59b5b6cd",
   "metadata": {},
   "outputs": [],
   "source": [
    "# Define Hindi text\n",
    "text = \"यह एक उदाहरण है हिन्दी पाठ को tokenize करने का।\""
   ]
  },
  {
   "cell_type": "code",
   "execution_count": 5,
   "id": "cc3c3e8d",
   "metadata": {},
   "outputs": [],
   "source": [
    "# Tokenize the text\n",
    "tokens = tokenize(text)"
   ]
  },
  {
   "cell_type": "code",
   "execution_count": 6,
   "id": "f1892265",
   "metadata": {},
   "outputs": [
    {
     "name": "stdout",
     "output_type": "stream",
     "text": [
      "['यह', 'क', 'द', 'हरण', 'ह', 'ह', 'न्द', 'प', 'ठ', 'क', 'करन', 'क']\n"
     ]
    }
   ],
   "source": [
    "# Print the tokens\n",
    "print(tokens)"
   ]
  },
  {
   "cell_type": "markdown",
   "id": "4f5a133b",
   "metadata": {},
   "source": [
    "### Pre-trained tokenizer:"
   ]
  },
  {
   "cell_type": "code",
   "execution_count": 7,
   "id": "34bb4617",
   "metadata": {
    "collapsed": true
   },
   "outputs": [
    {
     "name": "stdout",
     "output_type": "stream",
     "text": [
      "Requirement already satisfied: inltk in c:\\users\\priyanshu\\anaconda3\\lib\\site-packages (0.9)\n",
      "Requirement already satisfied: fastprogress>=0.1.19 in c:\\users\\priyanshu\\anaconda3\\lib\\site-packages (from inltk) (1.0.3)\n",
      "Requirement already satisfied: pyyaml in c:\\users\\priyanshu\\anaconda3\\lib\\site-packages (from inltk) (5.4.1)\n",
      "Requirement already satisfied: requests in c:\\users\\priyanshu\\anaconda3\\lib\\site-packages (from inltk) (2.25.1)\n",
      "Requirement already satisfied: async-timeout>=3.0.1 in c:\\users\\priyanshu\\anaconda3\\lib\\site-packages (from inltk) (4.0.3)\n",
      "Requirement already satisfied: fastai==1.0.57 in c:\\users\\priyanshu\\anaconda3\\lib\\site-packages (from inltk) (1.0.57)\n",
      "Requirement already satisfied: pandas in c:\\users\\priyanshu\\anaconda3\\lib\\site-packages (from inltk) (1.4.4)\n",
      "Requirement already satisfied: matplotlib in c:\\users\\priyanshu\\anaconda3\\lib\\site-packages (from inltk) (3.3.4)\n",
      "Requirement already satisfied: numpy>=1.15 in c:\\users\\priyanshu\\anaconda3\\lib\\site-packages (from inltk) (1.20.1)\n",
      "Requirement already satisfied: typing in c:\\users\\priyanshu\\anaconda3\\lib\\site-packages (from inltk) (3.7.4.3)\n",
      "Requirement already satisfied: beautifulsoup4 in c:\\users\\priyanshu\\anaconda3\\lib\\site-packages (from inltk) (4.9.3)\n",
      "Requirement already satisfied: nvidia-ml-py3 in c:\\users\\priyanshu\\anaconda3\\lib\\site-packages (from inltk) (7.352.0)\n",
      "Requirement already satisfied: packaging in c:\\users\\priyanshu\\anaconda3\\lib\\site-packages (from inltk) (20.9)\n",
      "Requirement already satisfied: aiohttp>=3.5.4 in c:\\users\\priyanshu\\anaconda3\\lib\\site-packages (from inltk) (3.9.3)\n",
      "Requirement already satisfied: Pillow in c:\\users\\priyanshu\\anaconda3\\lib\\site-packages (from inltk) (10.0.1)\n",
      "Requirement already satisfied: scipy in c:\\users\\priyanshu\\anaconda3\\lib\\site-packages (from inltk) (1.10.1)\n",
      "Requirement already satisfied: sentencepiece in c:\\users\\priyanshu\\anaconda3\\lib\\site-packages (from inltk) (0.2.0)\n",
      "Requirement already satisfied: spacy>=2.0.18 in c:\\users\\priyanshu\\anaconda3\\lib\\site-packages (from inltk) (3.7.4)\n",
      "Requirement already satisfied: bottleneck in c:\\users\\priyanshu\\anaconda3\\lib\\site-packages (from inltk) (1.3.2)\n",
      "Requirement already satisfied: numexpr in c:\\users\\priyanshu\\anaconda3\\lib\\site-packages (from inltk) (2.7.3)\n",
      "Requirement already satisfied: torchvision in c:\\users\\priyanshu\\anaconda3\\lib\\site-packages (from fastai==1.0.57->inltk) (0.17.1)\n",
      "Requirement already satisfied: torch>=1.0.0 in c:\\users\\priyanshu\\anaconda3\\lib\\site-packages (from fastai==1.0.57->inltk) (2.2.1)\n",
      "Requirement already satisfied: aiosignal>=1.1.2 in c:\\users\\priyanshu\\anaconda3\\lib\\site-packages (from aiohttp>=3.5.4->inltk) (1.3.1)\n",
      "Requirement already satisfied: yarl<2.0,>=1.0 in c:\\users\\priyanshu\\anaconda3\\lib\\site-packages (from aiohttp>=3.5.4->inltk) (1.9.4)\n",
      "Requirement already satisfied: attrs>=17.3.0 in c:\\users\\priyanshu\\anaconda3\\lib\\site-packages (from aiohttp>=3.5.4->inltk) (20.3.0)\n",
      "Requirement already satisfied: frozenlist>=1.1.1 in c:\\users\\priyanshu\\anaconda3\\lib\\site-packages (from aiohttp>=3.5.4->inltk) (1.4.1)\n",
      "Requirement already satisfied: multidict<7.0,>=4.5 in c:\\users\\priyanshu\\anaconda3\\lib\\site-packages (from aiohttp>=3.5.4->inltk) (6.0.5)\n",
      "Requirement already satisfied: srsly<3.0.0,>=2.4.3 in c:\\users\\priyanshu\\anaconda3\\lib\\site-packages (from spacy>=2.0.18->inltk) (2.4.8)\n",
      "Requirement already satisfied: spacy-legacy<3.1.0,>=3.0.11 in c:\\users\\priyanshu\\anaconda3\\lib\\site-packages (from spacy>=2.0.18->inltk) (3.0.12)\n",
      "Requirement already satisfied: setuptools in c:\\users\\priyanshu\\anaconda3\\lib\\site-packages (from spacy>=2.0.18->inltk) (52.0.0.post20210125)\n",
      "Requirement already satisfied: typer<0.10.0,>=0.3.0 in c:\\users\\priyanshu\\anaconda3\\lib\\site-packages (from spacy>=2.0.18->inltk) (0.9.0)\n",
      "Requirement already satisfied: catalogue<2.1.0,>=2.0.6 in c:\\users\\priyanshu\\anaconda3\\lib\\site-packages (from spacy>=2.0.18->inltk) (2.0.10)\n",
      "Requirement already satisfied: smart-open<7.0.0,>=5.2.1 in c:\\users\\priyanshu\\anaconda3\\lib\\site-packages (from spacy>=2.0.18->inltk) (6.4.0)\n",
      "Requirement already satisfied: wasabi<1.2.0,>=0.9.1 in c:\\users\\priyanshu\\anaconda3\\lib\\site-packages (from spacy>=2.0.18->inltk) (1.1.2)\n",
      "Requirement already satisfied: spacy-loggers<2.0.0,>=1.0.0 in c:\\users\\priyanshu\\anaconda3\\lib\\site-packages (from spacy>=2.0.18->inltk) (1.0.5)\n",
      "Requirement already satisfied: jinja2 in c:\\users\\priyanshu\\anaconda3\\lib\\site-packages (from spacy>=2.0.18->inltk) (2.11.3)\n",
      "Requirement already satisfied: tqdm<5.0.0,>=4.38.0 in c:\\users\\priyanshu\\anaconda3\\lib\\site-packages (from spacy>=2.0.18->inltk) (4.59.0)\n",
      "Requirement already satisfied: pydantic!=1.8,!=1.8.1,<3.0.0,>=1.7.4 in c:\\users\\priyanshu\\anaconda3\\lib\\site-packages (from spacy>=2.0.18->inltk) (1.10.12)\n",
      "Requirement already satisfied: langcodes<4.0.0,>=3.2.0 in c:\\users\\priyanshu\\anaconda3\\lib\\site-packages (from spacy>=2.0.18->inltk) (3.3.0)\n",
      "Requirement already satisfied: preshed<3.1.0,>=3.0.2 in c:\\users\\priyanshu\\anaconda3\\lib\\site-packages (from spacy>=2.0.18->inltk) (3.0.9)\n",
      "Requirement already satisfied: murmurhash<1.1.0,>=0.28.0 in c:\\users\\priyanshu\\anaconda3\\lib\\site-packages (from spacy>=2.0.18->inltk) (1.0.10)\n",
      "Requirement already satisfied: weasel<0.4.0,>=0.1.0 in c:\\users\\priyanshu\\anaconda3\\lib\\site-packages (from spacy>=2.0.18->inltk) (0.3.4)\n",
      "Requirement already satisfied: cymem<2.1.0,>=2.0.2 in c:\\users\\priyanshu\\anaconda3\\lib\\site-packages (from spacy>=2.0.18->inltk) (2.0.8)\n",
      "Requirement already satisfied: thinc<8.3.0,>=8.2.2 in c:\\users\\priyanshu\\anaconda3\\lib\\site-packages (from spacy>=2.0.18->inltk) (8.2.3)\n",
      "Requirement already satisfied: pyparsing>=2.0.2 in c:\\users\\priyanshu\\anaconda3\\lib\\site-packages (from packaging->inltk) (2.4.7)\n",
      "Requirement already satisfied: typing-extensions>=4.2.0 in c:\\users\\priyanshu\\anaconda3\\lib\\site-packages (from pydantic!=1.8,!=1.8.1,<3.0.0,>=1.7.4->spacy>=2.0.18->inltk) (4.9.0)\n",
      "Requirement already satisfied: idna<3,>=2.5 in c:\\users\\priyanshu\\anaconda3\\lib\\site-packages (from requests->inltk) (2.10)\n",
      "Requirement already satisfied: chardet<5,>=3.0.2 in c:\\users\\priyanshu\\anaconda3\\lib\\site-packages (from requests->inltk) (4.0.0)\n",
      "Requirement already satisfied: urllib3<1.27,>=1.21.1 in c:\\users\\priyanshu\\anaconda3\\lib\\site-packages (from requests->inltk) (1.26.4)\n",
      "Requirement already satisfied: certifi>=2017.4.17 in c:\\users\\priyanshu\\anaconda3\\lib\\site-packages (from requests->inltk) (2024.2.2)\n",
      "Requirement already satisfied: blis<0.8.0,>=0.7.8 in c:\\users\\priyanshu\\anaconda3\\lib\\site-packages (from thinc<8.3.0,>=8.2.2->spacy>=2.0.18->inltk) (0.7.11)\n",
      "Requirement already satisfied: confection<1.0.0,>=0.0.1 in c:\\users\\priyanshu\\anaconda3\\lib\\site-packages (from thinc<8.3.0,>=8.2.2->spacy>=2.0.18->inltk) (0.1.4)\n",
      "Requirement already satisfied: sympy in c:\\users\\priyanshu\\anaconda3\\lib\\site-packages (from torch>=1.0.0->fastai==1.0.57->inltk) (1.8)\n",
      "Requirement already satisfied: filelock in c:\\users\\priyanshu\\anaconda3\\lib\\site-packages (from torch>=1.0.0->fastai==1.0.57->inltk) (3.0.12)\n",
      "Requirement already satisfied: networkx in c:\\users\\priyanshu\\anaconda3\\lib\\site-packages (from torch>=1.0.0->fastai==1.0.57->inltk) (2.5)\n",
      "Requirement already satisfied: fsspec in c:\\users\\priyanshu\\anaconda3\\lib\\site-packages (from torch>=1.0.0->fastai==1.0.57->inltk) (0.9.0)\n",
      "Requirement already satisfied: click<9.0.0,>=7.1.1 in c:\\users\\priyanshu\\anaconda3\\lib\\site-packages (from typer<0.10.0,>=0.3.0->spacy>=2.0.18->inltk) (8.1.7)\n",
      "Requirement already satisfied: colorama in c:\\users\\priyanshu\\anaconda3\\lib\\site-packages (from click<9.0.0,>=7.1.1->typer<0.10.0,>=0.3.0->spacy>=2.0.18->inltk) (0.4.6)\n",
      "Requirement already satisfied: cloudpathlib<0.17.0,>=0.7.0 in c:\\users\\priyanshu\\anaconda3\\lib\\site-packages (from weasel<0.4.0,>=0.1.0->spacy>=2.0.18->inltk) (0.16.0)\n",
      "Requirement already satisfied: soupsieve>1.2 in c:\\users\\priyanshu\\anaconda3\\lib\\site-packages (from beautifulsoup4->inltk) (2.2.1)\n",
      "Requirement already satisfied: MarkupSafe>=0.23 in c:\\users\\priyanshu\\anaconda3\\lib\\site-packages (from jinja2->spacy>=2.0.18->inltk) (1.1.1)\n",
      "Requirement already satisfied: cycler>=0.10 in c:\\users\\priyanshu\\anaconda3\\lib\\site-packages (from matplotlib->inltk) (0.10.0)\n",
      "Requirement already satisfied: python-dateutil>=2.1 in c:\\users\\priyanshu\\anaconda3\\lib\\site-packages (from matplotlib->inltk) (2.8.1)\n",
      "Requirement already satisfied: kiwisolver>=1.0.1 in c:\\users\\priyanshu\\anaconda3\\lib\\site-packages (from matplotlib->inltk) (1.3.1)\n",
      "Requirement already satisfied: six in c:\\users\\priyanshu\\anaconda3\\lib\\site-packages (from cycler>=0.10->matplotlib->inltk) (1.15.0)\n",
      "Requirement already satisfied: decorator>=4.3.0 in c:\\users\\priyanshu\\anaconda3\\lib\\site-packages (from networkx->torch>=1.0.0->fastai==1.0.57->inltk) (5.0.6)\n",
      "Requirement already satisfied: pytz>=2020.1 in c:\\users\\priyanshu\\anaconda3\\lib\\site-packages (from pandas->inltk) (2021.1)\n",
      "Requirement already satisfied: mpmath>=0.19 in c:\\users\\priyanshu\\anaconda3\\lib\\site-packages (from sympy->torch>=1.0.0->fastai==1.0.57->inltk) (1.2.1)\n"
     ]
    }
   ],
   "source": [
    "# Install required libraries\n",
    "!pip install inltk"
   ]
  },
  {
   "cell_type": "code",
   "execution_count": 13,
   "id": "73c5db59",
   "metadata": {
    "scrolled": true
   },
   "outputs": [],
   "source": [
    "# Import necessary libraries\n",
    "from inltk.inltk import setup\n",
    "from nltk.tokenize import sent_tokenize, word_tokenize"
   ]
  },
  {
   "cell_type": "code",
   "execution_count": 14,
   "id": "59485e83",
   "metadata": {
    "collapsed": true
   },
   "outputs": [
    {
     "ename": "RuntimeError",
     "evalue": "This event loop is already running",
     "output_type": "error",
     "traceback": [
      "\u001b[1;31m---------------------------------------------------------------------------\u001b[0m",
      "\u001b[1;31mRuntimeError\u001b[0m                              Traceback (most recent call last)",
      "\u001b[1;32m<ipython-input-14-22fd68812f4a>\u001b[0m in \u001b[0;36m<module>\u001b[1;34m\u001b[0m\n\u001b[0;32m      1\u001b[0m \u001b[1;31m# Set up Hindi language\u001b[0m\u001b[1;33m\u001b[0m\u001b[1;33m\u001b[0m\u001b[1;33m\u001b[0m\u001b[0m\n\u001b[1;32m----> 2\u001b[1;33m \u001b[0msetup\u001b[0m\u001b[1;33m(\u001b[0m\u001b[1;34m'hi'\u001b[0m\u001b[1;33m)\u001b[0m\u001b[1;33m\u001b[0m\u001b[1;33m\u001b[0m\u001b[0m\n\u001b[0m",
      "\u001b[1;32m~\\anaconda3\\lib\\site-packages\\inltk\\inltk.py\u001b[0m in \u001b[0;36msetup\u001b[1;34m(language_code)\u001b[0m\n\u001b[0;32m     31\u001b[0m     \u001b[0mloop\u001b[0m \u001b[1;33m=\u001b[0m \u001b[0masyncio\u001b[0m\u001b[1;33m.\u001b[0m\u001b[0mget_event_loop\u001b[0m\u001b[1;33m(\u001b[0m\u001b[1;33m)\u001b[0m\u001b[1;33m\u001b[0m\u001b[1;33m\u001b[0m\u001b[0m\n\u001b[0;32m     32\u001b[0m     \u001b[0mtasks\u001b[0m \u001b[1;33m=\u001b[0m \u001b[1;33m[\u001b[0m\u001b[0masyncio\u001b[0m\u001b[1;33m.\u001b[0m\u001b[0mensure_future\u001b[0m\u001b[1;33m(\u001b[0m\u001b[0mdownload\u001b[0m\u001b[1;33m(\u001b[0m\u001b[0mlanguage_code\u001b[0m\u001b[1;33m)\u001b[0m\u001b[1;33m)\u001b[0m\u001b[1;33m]\u001b[0m\u001b[1;33m\u001b[0m\u001b[1;33m\u001b[0m\u001b[0m\n\u001b[1;32m---> 33\u001b[1;33m     \u001b[0mlearn\u001b[0m \u001b[1;33m=\u001b[0m \u001b[0mloop\u001b[0m\u001b[1;33m.\u001b[0m\u001b[0mrun_until_complete\u001b[0m\u001b[1;33m(\u001b[0m\u001b[0masyncio\u001b[0m\u001b[1;33m.\u001b[0m\u001b[0mgather\u001b[0m\u001b[1;33m(\u001b[0m\u001b[1;33m*\u001b[0m\u001b[0mtasks\u001b[0m\u001b[1;33m)\u001b[0m\u001b[1;33m)\u001b[0m\u001b[1;33m[\u001b[0m\u001b[1;36m0\u001b[0m\u001b[1;33m]\u001b[0m\u001b[1;33m\u001b[0m\u001b[1;33m\u001b[0m\u001b[0m\n\u001b[0m\u001b[0;32m     34\u001b[0m     \u001b[0mloop\u001b[0m\u001b[1;33m.\u001b[0m\u001b[0mclose\u001b[0m\u001b[1;33m(\u001b[0m\u001b[1;33m)\u001b[0m\u001b[1;33m\u001b[0m\u001b[1;33m\u001b[0m\u001b[0m\n\u001b[0;32m     35\u001b[0m \u001b[1;33m\u001b[0m\u001b[0m\n",
      "\u001b[1;32m~\\anaconda3\\lib\\asyncio\\base_events.py\u001b[0m in \u001b[0;36mrun_until_complete\u001b[1;34m(self, future)\u001b[0m\n\u001b[0;32m    590\u001b[0m         \"\"\"\n\u001b[0;32m    591\u001b[0m         \u001b[0mself\u001b[0m\u001b[1;33m.\u001b[0m\u001b[0m_check_closed\u001b[0m\u001b[1;33m(\u001b[0m\u001b[1;33m)\u001b[0m\u001b[1;33m\u001b[0m\u001b[1;33m\u001b[0m\u001b[0m\n\u001b[1;32m--> 592\u001b[1;33m         \u001b[0mself\u001b[0m\u001b[1;33m.\u001b[0m\u001b[0m_check_running\u001b[0m\u001b[1;33m(\u001b[0m\u001b[1;33m)\u001b[0m\u001b[1;33m\u001b[0m\u001b[1;33m\u001b[0m\u001b[0m\n\u001b[0m\u001b[0;32m    593\u001b[0m \u001b[1;33m\u001b[0m\u001b[0m\n\u001b[0;32m    594\u001b[0m         \u001b[0mnew_task\u001b[0m \u001b[1;33m=\u001b[0m \u001b[1;32mnot\u001b[0m \u001b[0mfutures\u001b[0m\u001b[1;33m.\u001b[0m\u001b[0misfuture\u001b[0m\u001b[1;33m(\u001b[0m\u001b[0mfuture\u001b[0m\u001b[1;33m)\u001b[0m\u001b[1;33m\u001b[0m\u001b[1;33m\u001b[0m\u001b[0m\n",
      "\u001b[1;32m~\\anaconda3\\lib\\asyncio\\base_events.py\u001b[0m in \u001b[0;36m_check_running\u001b[1;34m(self)\u001b[0m\n\u001b[0;32m    550\u001b[0m     \u001b[1;32mdef\u001b[0m \u001b[0m_check_running\u001b[0m\u001b[1;33m(\u001b[0m\u001b[0mself\u001b[0m\u001b[1;33m)\u001b[0m\u001b[1;33m:\u001b[0m\u001b[1;33m\u001b[0m\u001b[1;33m\u001b[0m\u001b[0m\n\u001b[0;32m    551\u001b[0m         \u001b[1;32mif\u001b[0m \u001b[0mself\u001b[0m\u001b[1;33m.\u001b[0m\u001b[0mis_running\u001b[0m\u001b[1;33m(\u001b[0m\u001b[1;33m)\u001b[0m\u001b[1;33m:\u001b[0m\u001b[1;33m\u001b[0m\u001b[1;33m\u001b[0m\u001b[0m\n\u001b[1;32m--> 552\u001b[1;33m             \u001b[1;32mraise\u001b[0m \u001b[0mRuntimeError\u001b[0m\u001b[1;33m(\u001b[0m\u001b[1;34m'This event loop is already running'\u001b[0m\u001b[1;33m)\u001b[0m\u001b[1;33m\u001b[0m\u001b[1;33m\u001b[0m\u001b[0m\n\u001b[0m\u001b[0;32m    553\u001b[0m         \u001b[1;32mif\u001b[0m \u001b[0mevents\u001b[0m\u001b[1;33m.\u001b[0m\u001b[0m_get_running_loop\u001b[0m\u001b[1;33m(\u001b[0m\u001b[1;33m)\u001b[0m \u001b[1;32mis\u001b[0m \u001b[1;32mnot\u001b[0m \u001b[1;32mNone\u001b[0m\u001b[1;33m:\u001b[0m\u001b[1;33m\u001b[0m\u001b[1;33m\u001b[0m\u001b[0m\n\u001b[0;32m    554\u001b[0m             raise RuntimeError(\n",
      "\u001b[1;31mRuntimeError\u001b[0m: This event loop is already running"
     ]
    },
    {
     "name": "stdout",
     "output_type": "stream",
     "text": [
      "Downloading Model. This might take time, depending on your internet connection. Please be patient.\n",
      "We'll only do this for the first time.\n"
     ]
    }
   ],
   "source": [
    "# Set up Hindi language\n",
    "setup('hi')"
   ]
  },
  {
   "cell_type": "code",
   "execution_count": 15,
   "id": "7154c576",
   "metadata": {},
   "outputs": [
    {
     "name": "stdout",
     "output_type": "stream",
     "text": [
      "Sentences:\n",
      "यह एक उदाहरण है कि कैसे हिंदी भाषा को टोकन किया जा सकता है।\n",
      "\n",
      "Words:\n",
      "['यह', 'एक', 'उदाहरण', 'है', 'कि', 'कैसे', 'हिंदी', 'भाषा', 'को', 'टोकन', 'किया', 'जा', 'सकता', 'है।']\n",
      "Downloading Model. This might take time, depending on your internet connection. Please be patient.\n",
      "We'll only do this for the first time.\n",
      "Done!\n",
      "Done!\n"
     ]
    }
   ],
   "source": [
    "# Define the Hindi text\n",
    "text = \"यह एक उदाहरण है कि कैसे हिंदी भाषा को टोकन किया जा सकता है।\"\n",
    "\n",
    "# Tokenize text into sentences\n",
    "sentences = sent_tokenize(text)\n",
    "print(\"Sentences:\")\n",
    "for sentence in sentences:\n",
    "    print(sentence)\n",
    "\n",
    "# Tokenize each sentence into words\n",
    "print(\"\\nWords:\")\n",
    "for sentence in sentences:\n",
    "    words = word_tokenize(sentence)\n",
    "    print(words)"
   ]
  },
  {
   "cell_type": "markdown",
   "id": "be466077",
   "metadata": {},
   "source": [
    "### Tokenizing French language:"
   ]
  },
  {
   "cell_type": "code",
   "execution_count": 16,
   "id": "3db7620d",
   "metadata": {},
   "outputs": [],
   "source": [
    "# Define the French text\n",
    "text = \"Bonjour, le monde ! Comment allez-vous ?\""
   ]
  },
  {
   "cell_type": "code",
   "execution_count": 17,
   "id": "733b8820",
   "metadata": {},
   "outputs": [
    {
     "name": "stdout",
     "output_type": "stream",
     "text": [
      "Sentences:\n",
      "Bonjour, le monde !\n",
      "Comment allez-vous ?\n"
     ]
    }
   ],
   "source": [
    "# Tokenize text into sentences\n",
    "sentences = sent_tokenize(text, language='french')\n",
    "print(\"Sentences:\")\n",
    "for sentence in sentences:\n",
    "    print(sentence)"
   ]
  },
  {
   "cell_type": "code",
   "execution_count": 18,
   "id": "366c2bc5",
   "metadata": {},
   "outputs": [
    {
     "name": "stdout",
     "output_type": "stream",
     "text": [
      "\n",
      "Words:\n",
      "['Bonjour', ',', 'le', 'monde', '!']\n",
      "['Comment', 'allez-vous', '?']\n"
     ]
    }
   ],
   "source": [
    "# Tokenize each sentence into words\n",
    "print(\"\\nWords:\")\n",
    "for sentence in sentences:\n",
    "    words = word_tokenize(sentence)\n",
    "    print(words)"
   ]
  },
  {
   "cell_type": "code",
   "execution_count": null,
   "id": "df3c4e4e",
   "metadata": {},
   "outputs": [],
   "source": []
  }
 ],
 "metadata": {
  "kernelspec": {
   "display_name": "Python 3",
   "language": "python",
   "name": "python3"
  },
  "language_info": {
   "codemirror_mode": {
    "name": "ipython",
    "version": 3
   },
   "file_extension": ".py",
   "mimetype": "text/x-python",
   "name": "python",
   "nbconvert_exporter": "python",
   "pygments_lexer": "ipython3",
   "version": "3.8.8"
  }
 },
 "nbformat": 4,
 "nbformat_minor": 5
}
